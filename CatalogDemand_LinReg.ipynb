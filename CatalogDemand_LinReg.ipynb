{
 "cells": [
  {
   "cell_type": "markdown",
   "metadata": {},
   "source": [
    "####  "
   ]
  },
  {
   "cell_type": "markdown",
   "metadata": {},
   "source": [
    "# Predicting Catalog Demand"
   ]
  },
  {
   "cell_type": "markdown",
   "metadata": {},
   "source": [
    "#### Max Sydow, Udacity - Predictive Modeling for Business Nanodegree\n",
    "#### June, 2023"
   ]
  },
  {
   "cell_type": "markdown",
   "metadata": {},
   "source": [
    "## <u>Business and Data Understanding</u>\n",
    "\n",
    "#### One way that a high-end home goods manufacturer generates revenue is through catalog purchases.  The company has kept demographic and past sales data, and has used this to calculate likelihood for a customer to make a purchase whether or not they responded to the catalog.  Another dataset for 250 new customers, who have not yet had a chance to respond to the catalog contains the same demographic data, and columns for the probability of them buying from the catalog as it would impossible to inlcude of them already having done so.  Management requested a newly acquired analyst to help decide whether issuing catalogs to these new customers would be worthwhile, and has determined that an expected net profit of $10,000 would need to be exceded in order to make this decision.\n",
    "\n",
    "#### The data from existing catalog receiving customers can be used to predict sales using other attributes in a linear model.  Graphical exploration of trends for potential predictor variables, and mathematical indicators describing strength of fit and probability of impact on outcome can be used to determine the best model to make these predictions.  Profit margin, the cost of printing catalogs, and the likelihood for catalog purchase can then be used to calculate the final overall expected profit.  "
   ]
  },
  {
   "cell_type": "markdown",
   "metadata": {},
   "source": [
    "# Existing Customer Data Exploration and Predictive Variable Determination."
   ]
  },
  {
   "cell_type": "markdown",
   "metadata": {},
   "source": [
    "#### Existing customer data was read in from an Excel file as a csv named 'p1-customers'.  The data for prospective customers will be loaded later, but was named 'p1-mailinglist'."
   ]
  },
  {
   "cell_type": "code",
   "execution_count": 1,
   "metadata": {},
   "outputs": [
    {
     "name": "stderr",
     "output_type": "stream",
     "text": [
      "In C:\\Users\\maxgs\\Anaconda3\\lib\\site-packages\\matplotlib\\mpl-data\\stylelib\\_classic_test.mplstyle: \n",
      "The savefig.frameon rcparam was deprecated in Matplotlib 3.1 and will be removed in 3.3.\n",
      "In C:\\Users\\maxgs\\Anaconda3\\lib\\site-packages\\matplotlib\\mpl-data\\stylelib\\_classic_test.mplstyle: \n",
      "The verbose.level rcparam was deprecated in Matplotlib 3.1 and will be removed in 3.3.\n",
      "In C:\\Users\\maxgs\\Anaconda3\\lib\\site-packages\\matplotlib\\mpl-data\\stylelib\\_classic_test.mplstyle: \n",
      "The verbose.fileo rcparam was deprecated in Matplotlib 3.1 and will be removed in 3.3.\n"
     ]
    }
   ],
   "source": [
    "# read initial data set, store as dataframe, and load analytic and visualization libraries\n",
    "import pandas as pd\n",
    "import numpy as np\n",
    "import matplotlib.pyplot as plt\n",
    "import seaborn as sns\n",
    "cust_df = pd.read_csv('p1-customers.csv')"
   ]
  },
  {
   "cell_type": "code",
   "execution_count": 2,
   "metadata": {},
   "outputs": [
    {
     "data": {
      "text/html": [
       "<div>\n",
       "<style scoped>\n",
       "    .dataframe tbody tr th:only-of-type {\n",
       "        vertical-align: middle;\n",
       "    }\n",
       "\n",
       "    .dataframe tbody tr th {\n",
       "        vertical-align: top;\n",
       "    }\n",
       "\n",
       "    .dataframe thead th {\n",
       "        text-align: right;\n",
       "    }\n",
       "</style>\n",
       "<table border=\"1\" class=\"dataframe\">\n",
       "  <thead>\n",
       "    <tr style=\"text-align: right;\">\n",
       "      <th></th>\n",
       "      <th>Name</th>\n",
       "      <th>Customer_Segment</th>\n",
       "      <th>Customer_ID</th>\n",
       "      <th>Address</th>\n",
       "      <th>City</th>\n",
       "      <th>State</th>\n",
       "      <th>ZIP</th>\n",
       "      <th>Avg_Sale_Amount</th>\n",
       "      <th>Store_Number</th>\n",
       "      <th>Responded_to_Last_Catalog</th>\n",
       "      <th>Avg_Num_Products_Purchased</th>\n",
       "      <th>#_Years_as_Customer</th>\n",
       "    </tr>\n",
       "  </thead>\n",
       "  <tbody>\n",
       "    <tr>\n",
       "      <th>0</th>\n",
       "      <td>Pamela Wright</td>\n",
       "      <td>Store Mailing List</td>\n",
       "      <td>2</td>\n",
       "      <td>376 S Jasmine St</td>\n",
       "      <td>Denver</td>\n",
       "      <td>CO</td>\n",
       "      <td>80224</td>\n",
       "      <td>227.90</td>\n",
       "      <td>100</td>\n",
       "      <td>No</td>\n",
       "      <td>1</td>\n",
       "      <td>6</td>\n",
       "    </tr>\n",
       "    <tr>\n",
       "      <th>1</th>\n",
       "      <td>Danell Valdez</td>\n",
       "      <td>Store Mailing List</td>\n",
       "      <td>7</td>\n",
       "      <td>12066 E Lake Cir</td>\n",
       "      <td>Greenwood Village</td>\n",
       "      <td>CO</td>\n",
       "      <td>80111</td>\n",
       "      <td>55.00</td>\n",
       "      <td>105</td>\n",
       "      <td>Yes</td>\n",
       "      <td>1</td>\n",
       "      <td>6</td>\n",
       "    </tr>\n",
       "    <tr>\n",
       "      <th>2</th>\n",
       "      <td>Jessica Rinehart</td>\n",
       "      <td>Store Mailing List</td>\n",
       "      <td>8</td>\n",
       "      <td>7225 S Gaylord St</td>\n",
       "      <td>Centennial</td>\n",
       "      <td>CO</td>\n",
       "      <td>80122</td>\n",
       "      <td>212.57</td>\n",
       "      <td>101</td>\n",
       "      <td>No</td>\n",
       "      <td>1</td>\n",
       "      <td>3</td>\n",
       "    </tr>\n",
       "    <tr>\n",
       "      <th>3</th>\n",
       "      <td>Nancy Clark</td>\n",
       "      <td>Store Mailing List</td>\n",
       "      <td>9</td>\n",
       "      <td>4497 Cornish Way</td>\n",
       "      <td>Denver</td>\n",
       "      <td>CO</td>\n",
       "      <td>80239</td>\n",
       "      <td>195.31</td>\n",
       "      <td>105</td>\n",
       "      <td>Yes</td>\n",
       "      <td>1</td>\n",
       "      <td>6</td>\n",
       "    </tr>\n",
       "    <tr>\n",
       "      <th>4</th>\n",
       "      <td>Andrea Brun</td>\n",
       "      <td>Store Mailing List</td>\n",
       "      <td>10</td>\n",
       "      <td>2316 E 5th Ave</td>\n",
       "      <td>Denver</td>\n",
       "      <td>CO</td>\n",
       "      <td>80206</td>\n",
       "      <td>110.55</td>\n",
       "      <td>100</td>\n",
       "      <td>Yes</td>\n",
       "      <td>1</td>\n",
       "      <td>2</td>\n",
       "    </tr>\n",
       "  </tbody>\n",
       "</table>\n",
       "</div>"
      ],
      "text/plain": [
       "               Name    Customer_Segment  Customer_ID            Address  \\\n",
       "0     Pamela Wright  Store Mailing List            2   376 S Jasmine St   \n",
       "1     Danell Valdez  Store Mailing List            7   12066 E Lake Cir   \n",
       "2  Jessica Rinehart  Store Mailing List            8  7225 S Gaylord St   \n",
       "3       Nancy Clark  Store Mailing List            9   4497 Cornish Way   \n",
       "4       Andrea Brun  Store Mailing List           10     2316 E 5th Ave   \n",
       "\n",
       "                City State    ZIP  Avg_Sale_Amount  Store_Number  \\\n",
       "0             Denver    CO  80224           227.90           100   \n",
       "1  Greenwood Village    CO  80111            55.00           105   \n",
       "2         Centennial    CO  80122           212.57           101   \n",
       "3             Denver    CO  80239           195.31           105   \n",
       "4             Denver    CO  80206           110.55           100   \n",
       "\n",
       "  Responded_to_Last_Catalog  Avg_Num_Products_Purchased  #_Years_as_Customer  \n",
       "0                        No                           1                    6  \n",
       "1                       Yes                           1                    6  \n",
       "2                        No                           1                    3  \n",
       "3                       Yes                           1                    6  \n",
       "4                       Yes                           1                    2  "
      ]
     },
     "execution_count": 2,
     "metadata": {},
     "output_type": "execute_result"
    }
   ],
   "source": [
    "cust_df.head()"
   ]
  },
  {
   "cell_type": "code",
   "execution_count": 3,
   "metadata": {},
   "outputs": [
    {
     "name": "stdout",
     "output_type": "stream",
     "text": [
      "<class 'pandas.core.frame.DataFrame'>\n",
      "RangeIndex: 2375 entries, 0 to 2374\n",
      "Data columns (total 12 columns):\n",
      " #   Column                      Non-Null Count  Dtype  \n",
      "---  ------                      --------------  -----  \n",
      " 0   Name                        2375 non-null   object \n",
      " 1   Customer_Segment            2375 non-null   object \n",
      " 2   Customer_ID                 2375 non-null   int64  \n",
      " 3   Address                     2375 non-null   object \n",
      " 4   City                        2375 non-null   object \n",
      " 5   State                       2375 non-null   object \n",
      " 6   ZIP                         2375 non-null   int64  \n",
      " 7   Avg_Sale_Amount             2375 non-null   float64\n",
      " 8   Store_Number                2375 non-null   int64  \n",
      " 9   Responded_to_Last_Catalog   2375 non-null   object \n",
      " 10  Avg_Num_Products_Purchased  2375 non-null   int64  \n",
      " 11  #_Years_as_Customer         2375 non-null   int64  \n",
      "dtypes: float64(1), int64(5), object(6)\n",
      "memory usage: 222.8+ KB\n"
     ]
    }
   ],
   "source": [
    "# checking size of dataset, and making sure no imputation is needed - each row has the same number of non-null values\n",
    "cust_df.info()"
   ]
  },
  {
   "cell_type": "markdown",
   "metadata": {},
   "source": [
    "#### Look at number of unique values for categorical location variable to determine which, if any, can be used in the model."
   ]
  },
  {
   "cell_type": "code",
   "execution_count": 4,
   "metadata": {},
   "outputs": [
    {
     "data": {
      "text/plain": [
       "86"
      ]
     },
     "execution_count": 4,
     "metadata": {},
     "output_type": "execute_result"
    }
   ],
   "source": [
    "cust_df['ZIP'].nunique()"
   ]
  },
  {
   "cell_type": "code",
   "execution_count": 5,
   "metadata": {},
   "outputs": [
    {
     "data": {
      "text/plain": [
       "27"
      ]
     },
     "execution_count": 5,
     "metadata": {},
     "output_type": "execute_result"
    }
   ],
   "source": [
    "cust_df['City'].nunique()"
   ]
  },
  {
   "cell_type": "code",
   "execution_count": 6,
   "metadata": {},
   "outputs": [
    {
     "data": {
      "text/plain": [
       "1"
      ]
     },
     "execution_count": 6,
     "metadata": {},
     "output_type": "execute_result"
    }
   ],
   "source": [
    "cust_df['State'].nunique()"
   ]
  },
  {
   "cell_type": "markdown",
   "metadata": {},
   "source": [
    "#### \"ZIP\" apears too have too many values for one-hot encoding, while there is only one \"State\" - neither would be very valuable to have as predictor variables.  Too many predictor variables may lead to overfitting, and become very cumbersome in an equation of fit. \"City\" has a relatively large number of unique values, but seems like a possible candidate to use in the model.  The below distribution is right-skewed, which may result in some states with higher counts having more influence on the target than others.  I don't beleive this could necessarily be a bad thing, despite the possibility of overfitting - if some states contribute to the prediction according to their p-values, then having such knowledge on location by state influence may be valuable.   "
   ]
  },
  {
   "cell_type": "code",
   "execution_count": 7,
   "metadata": {},
   "outputs": [
    {
     "data": {
      "image/png": "[encoded data removed]",
      "text/plain": [
       "<Figure size 432x288 with 1 Axes>"
      ]
     },
     "metadata": {
      "needs_background": "light"
     },
     "output_type": "display_data"
    }
   ],
   "source": [
    "p = plt.hist(cust_df['City'])\n",
    "plt.xticks(rotation='vertical')\n",
    "plt.show()"
   ]
  },
  {
   "cell_type": "markdown",
   "metadata": {},
   "source": [
    "#### \"Store_Number\" may also turn out to have value in the prediction.  One-hot encoding on 9 values is not too arduous, and the distribution of counts is almost fairly uniform (although store number 102 may not have much sway on the outcome.)"
   ]
  },
  {
   "cell_type": "code",
   "execution_count": 8,
   "metadata": {},
   "outputs": [
    {
     "data": {
      "text/plain": [
       "10"
      ]
     },
     "execution_count": 8,
     "metadata": {},
     "output_type": "execute_result"
    }
   ],
   "source": [
    "cust_df['Store_Number'].nunique()"
   ]
  },
  {
   "cell_type": "code",
   "execution_count": 9,
   "metadata": {},
   "outputs": [
    {
     "data": {
      "image/png": "[encoded data removed]",
      "text/plain": [
       "<Figure size 432x288 with 1 Axes>"
      ]
     },
     "metadata": {
      "needs_background": "light"
     },
     "output_type": "display_data"
    }
   ],
   "source": [
    "p = plt.hist(cust_df['Store_Number'])\n",
    "plt.xticks(rotation='vertical')\n",
    "plt.show()"
   ]
  },
  {
   "cell_type": "code",
   "execution_count": 10,
   "metadata": {},
   "outputs": [
    {
     "data": {
      "image/png": "[encoded data removed]",
      "text/plain": [
       "<Figure size 432x288 with 1 Axes>"
      ]
     },
     "metadata": {
      "needs_background": "light"
     },
     "output_type": "display_data"
    }
   ],
   "source": [
    "p = plt.hist(cust_df['Customer_Segment'])\n",
    "plt.xticks(rotation='vertical')\n",
    "plt.show()"
   ]
  },
  {
   "cell_type": "code",
   "execution_count": 11,
   "metadata": {},
   "outputs": [
    {
     "data": {
      "image/png": "[encoded data removed]",
      "text/plain": [
       "<Figure size 432x288 with 1 Axes>"
      ]
     },
     "metadata": {
      "needs_background": "light"
     },
     "output_type": "display_data"
    }
   ],
   "source": [
    "p = plt.hist(cust_df['#_Years_as_Customer'])\n",
    "plt.xticks(rotation='vertical')\n",
    "plt.show()"
   ]
  },
  {
   "cell_type": "code",
   "execution_count": 12,
   "metadata": {},
   "outputs": [
    {
     "data": {
      "text/plain": [
       "2    316\n",
       "8    313\n",
       "6    307\n",
       "1    297\n",
       "5    294\n",
       "3    285\n",
       "4    284\n",
       "7    279\n",
       "Name: #_Years_as_Customer, dtype: int64"
      ]
     },
     "execution_count": 12,
     "metadata": {},
     "output_type": "execute_result"
    }
   ],
   "source": [
    "cust_df['#_Years_as_Customer'].value_counts()"
   ]
  },
  {
   "cell_type": "markdown",
   "metadata": {},
   "source": [
    "#### 7 years has the least number of values, so this should be removed if this column were to be treated as a categorical instead of ordinal/continuous variable."
   ]
  },
  {
   "cell_type": "markdown",
   "metadata": {},
   "source": [
    "#### The count profile for Customer_Segment may have some skewedness if the x-axis variables were to be re-ordered.  This attribute will be looked into further below, but let's keep it as a potential predictor variable for now.  Since 'Responded_to_Last_Catalog' does not exist in the data set for the new customers, it cannot be used in a model that makes predictions for them."
   ]
  },
  {
   "cell_type": "code",
   "execution_count": 13,
   "metadata": {},
   "outputs": [],
   "source": [
    "# remove Name, Customer_ID, Address, State, ZIP\n",
    "catmod_df = cust_df.drop(['Name', 'Customer_ID', 'Address', 'State', 'ZIP', 'Responded_to_Last_Catalog'], axis=1)"
   ]
  },
  {
   "cell_type": "code",
   "execution_count": 14,
   "metadata": {},
   "outputs": [
    {
     "data": {
      "text/plain": [
       "Index(['Customer_Segment', 'City', 'Avg_Sale_Amount', 'Store_Number',\n",
       "       'Avg_Num_Products_Purchased', '#_Years_as_Customer'],\n",
       "      dtype='object')"
      ]
     },
     "execution_count": 14,
     "metadata": {},
     "output_type": "execute_result"
    }
   ],
   "source": [
    "catmod_df.columns"
   ]
  },
  {
   "cell_type": "code",
   "execution_count": 15,
   "metadata": {},
   "outputs": [
    {
     "data": {
      "text/plain": [
       "Customer_Segment     4\n",
       "City                27\n",
       "dtype: int64"
      ]
     },
     "execution_count": 15,
     "metadata": {},
     "output_type": "execute_result"
    }
   ],
   "source": [
    "catmod_df.select_dtypes(include='object').nunique()"
   ]
  },
  {
   "cell_type": "markdown",
   "metadata": {},
   "source": [
    "## Plots and distributions of potentential predictor variables:"
   ]
  },
  {
   "cell_type": "markdown",
   "metadata": {},
   "source": [
    "#### Looking at scatter-plots of each candidate predictor variable versus the target variable, we see that the average number of products purchased has a roughly linear trend compared to average sale amount.  Number of years as customer is an ordinal variable that can be treated as continuous, but there are only 8 distinct values and the generalized scatter-plot doesn't reveal a clearly visible linear trend at this view level.  This may indicate that this variable will have little or even a negative impact on the model, but examining P-values and R-squared strength of fit would ultimately be better indicators for such a determination.  \n",
    "\n",
    "#### Looking at the other categorical variables as grouped boxplots ordered by median average sales can aid in visually identifying trends, and may give an indication of how outliers may sway a prediction.  Observing similarly ordered trends in mean sales may also be useful for this reason."
   ]
  },
  {
   "cell_type": "markdown",
   "metadata": {},
   "source": [
    "#### Overall set of scatter-plots"
   ]
  },
  {
   "cell_type": "code",
   "execution_count": 16,
   "metadata": {},
   "outputs": [
    {
     "data": {
      "text/plain": [
       "<seaborn.axisgrid.PairGrid at 0x28cffce17b8>"
      ]
     },
     "execution_count": 16,
     "metadata": {},
     "output_type": "execute_result"
    },
    {
     "data": {
      "image/png": "[encoded data removed]",
      "text/plain": [
       "<Figure size 1440x360 with 4 Axes>"
      ]
     },
     "metadata": {
      "needs_background": "light"
     },
     "output_type": "display_data"
    }
   ],
   "source": [
    "g = sns.PairGrid(catmod_df, y_vars=[\"Avg_Sale_Amount\"], x_vars=['Store_Number', 'Customer_Segment',\n",
    "       'Avg_Num_Products_Purchased', '#_Years_as_Customer'], height=5)\n",
    "g.map(sns.scatterplot)"
   ]
  },
  {
   "cell_type": "markdown",
   "metadata": {},
   "source": [
    "#### City"
   ]
  },
  {
   "cell_type": "code",
   "execution_count": 17,
   "metadata": {},
   "outputs": [
    {
     "data": {
      "text/plain": [
       "<matplotlib.axes._subplots.AxesSubplot at 0x28c8d08b320>"
      ]
     },
     "execution_count": 17,
     "metadata": {},
     "output_type": "execute_result"
    },
    {
     "data": {
      "image/png": "[encoded data removed]",
      "text/plain": [
       "<Figure size 432x288 with 1 Axes>"
      ]
     },
     "metadata": {
      "needs_background": "light"
     },
     "output_type": "display_data"
    }
   ],
   "source": [
    "# boxplots of ordered (low-to-high) mean Avg_Sale_Amount by City\n",
    "city_meds=catmod_df.groupby(['City'])['Avg_Sale_Amount'].median().sort_values(ascending=True)\n",
    "sns.boxplot(x='City', y='Avg_Sale_Amount', data=catmod_df, order=city_meds.index)"
   ]
  },
  {
   "cell_type": "code",
   "execution_count": 18,
   "metadata": {},
   "outputs": [
    {
     "data": {
      "text/plain": [
       "<matplotlib.axes._subplots.AxesSubplot at 0x28c8d397f60>"
      ]
     },
     "execution_count": 18,
     "metadata": {},
     "output_type": "execute_result"
    },
    {
     "data": {
      "image/png": "[encoded data removed]",
      "text/plain": [
       "<Figure size 432x288 with 1 Axes>"
      ]
     },
     "metadata": {
      "needs_background": "light"
     },
     "output_type": "display_data"
    }
   ],
   "source": [
    "# plot of ordered (increasing) aggregated mean average sales by City\n",
    "X_city=catmod_df.groupby(['City'])['Avg_Sale_Amount'].mean().sort_values(ascending=True).index\n",
    "Y_city=catmod_df.groupby(['City'])['Avg_Sale_Amount'].mean().sort_values(ascending=True).values\n",
    "\n",
    "sns.scatterplot(x=X_city, y=Y_city)"
   ]
  },
  {
   "cell_type": "markdown",
   "metadata": {},
   "source": [
    "#### While not an ordinal variable in it's own right, the average of 'Avg_Sale_Amount' appears to follow an inverse or even cubic trend when ordered from least to most when plotted against 'City'.  However, most of the y-values appear to hover about a horizontal line about y=400.  This may indicate a more or less even distribution of aggregated sales amidst all of the cities in the sampled data, thereby nullifying it's effect on making a prediction."
   ]
  },
  {
   "cell_type": "markdown",
   "metadata": {},
   "source": [
    "#### Store_Number"
   ]
  },
  {
   "cell_type": "code",
   "execution_count": 19,
   "metadata": {},
   "outputs": [
    {
     "data": {
      "text/plain": [
       "<matplotlib.axes._subplots.AxesSubplot at 0x28c8d437f60>"
      ]
     },
     "execution_count": 19,
     "metadata": {},
     "output_type": "execute_result"
    },
    {
     "data": {
      "image/png": "[encoded data removed]",
      "text/plain": [
       "<Figure size 432x288 with 1 Axes>"
      ]
     },
     "metadata": {
      "needs_background": "light"
     },
     "output_type": "display_data"
    }
   ],
   "source": [
    "# boxplots of ordered (low-to-high) mean Avg_Sale_Amount by Store_Number\n",
    "storenum_meds=catmod_df.groupby(['Store_Number'])['Avg_Sale_Amount'].median()\n",
    "sns.boxplot(x='Store_Number', y='Avg_Sale_Amount', data=catmod_df)"
   ]
  },
  {
   "cell_type": "code",
   "execution_count": 20,
   "metadata": {},
   "outputs": [
    {
     "data": {
      "text/plain": [
       "<matplotlib.axes._subplots.AxesSubplot at 0x28c8d559668>"
      ]
     },
     "execution_count": 20,
     "metadata": {},
     "output_type": "execute_result"
    },
    {
     "data": {
      "image/png": "[encoded data removed]",
      "text/plain": [
       "<Figure size 432x288 with 1 Axes>"
      ]
     },
     "metadata": {
      "needs_background": "light"
     },
     "output_type": "display_data"
    }
   ],
   "source": [
    "# plot aggregated mean average sales vs. (increasing) ordered store number\n",
    "X=catmod_df.groupby(['Store_Number'])['Avg_Sale_Amount'].mean().sort_values(ascending=True).index\n",
    "Y=catmod_df.groupby(['Store_Number'])['Avg_Sale_Amount'].mean().sort_values(ascending=True).values\n",
    "\n",
    "sns.scatterplot(x=X, y=Y)"
   ]
  },
  {
   "cell_type": "markdown",
   "metadata": {},
   "source": [
    "#### Aggregated average sales appears to disperse further as the 'Store_Number' increases in numerical value.  This effect would only widen a residual error for line of fit."
   ]
  },
  {
   "cell_type": "markdown",
   "metadata": {},
   "source": [
    "#### Customer_Segment"
   ]
  },
  {
   "cell_type": "code",
   "execution_count": 21,
   "metadata": {},
   "outputs": [
    {
     "data": {
      "image/png": "[encoded data removed]",
      "text/plain": [
       "<Figure size 864x432 with 1 Axes>"
      ]
     },
     "metadata": {
      "needs_background": "light"
     },
     "output_type": "display_data"
    }
   ],
   "source": [
    "# looks the way I want it regardless of errors, check above for accuracy\n",
    "custseg_medss=catmod_df.groupby(['Customer_Segment'])['Avg_Sale_Amount'].median().sort_values(ascending=True)\n",
    "fig,ax = plt.subplots(figsize=(12,6))\n",
    "sns.boxplot(x='Customer_Segment', y='Avg_Sale_Amount', data=catmod_df, order=custseg_medss.index)\n",
    "#ax.set_xticklables(ax.get_xticklabels(), rotation=45)\n",
    "plt.show()"
   ]
  },
  {
   "cell_type": "code",
   "execution_count": 22,
   "metadata": {},
   "outputs": [
    {
     "data": {
      "image/png": "[encoded data removed]",
      "text/plain": [
       "<Figure size 864x432 with 1 Axes>"
      ]
     },
     "metadata": {
      "needs_background": "light"
     },
     "output_type": "display_data"
    }
   ],
   "source": [
    "# looks the way I want it regardless of errors, check above for accuracy\n",
    "custseg_medss=catmod_df.groupby(['Customer_Segment'])['Avg_Sale_Amount'].median().sort_values(ascending=True)\n",
    "fig,ax = plt.subplots(figsize=(12,6))\n",
    "sns.boxplot(x='Customer_Segment', y='Avg_Sale_Amount', data=catmod_df, order=custseg_medss.index)\n",
    "#ax.set_xticklables(ax.get_xticklabels(), rotation=45)\n",
    "plt.show()"
   ]
  },
  {
   "cell_type": "code",
   "execution_count": 23,
   "metadata": {},
   "outputs": [
    {
     "data": {
      "text/plain": [
       "<matplotlib.axes._subplots.AxesSubplot at 0x28cffb44a20>"
      ]
     },
     "execution_count": 23,
     "metadata": {},
     "output_type": "execute_result"
    },
    {
     "data": {
      "image/png": "[encoded data removed]",
      "text/plain": [
       "<Figure size 432x288 with 1 Axes>"
      ]
     },
     "metadata": {
      "needs_background": "light"
     },
     "output_type": "display_data"
    }
   ],
   "source": [
    "# plot aggregated mean average sales (ordered increasing) by Customer_Segment\n",
    "X=catmod_df.groupby(['Customer_Segment'])['Avg_Sale_Amount'].mean().sort_values(ascending=True).index\n",
    "Y=catmod_df.groupby(['Customer_Segment'])['Avg_Sale_Amount'].mean().sort_values(ascending=True).values\n",
    "\n",
    "sns.scatterplot(x=X, y=Y)"
   ]
  },
  {
   "cell_type": "markdown",
   "metadata": {},
   "source": [
    "#### There is a clear increasing trend for both median and mean aggragated 'Avg_Sales_Amounts' when plotted in an increasing order grouped by Customer_Segment'.  The four categories along the x-axis are absolutely categorical, and not ordinal or continous at all, however, when plotted this way, it is hard to deny the appearance of an overall visual trend that may have a positive slope! \n",
    "\n",
    "#### If this observation could indicate an impact on a multi-variable linear model, then we should still resort to utilizing P-values and fit-measures to reach such a conclusion.  "
   ]
  },
  {
   "cell_type": "markdown",
   "metadata": {},
   "source": [
    "#### Years as Customer"
   ]
  },
  {
   "cell_type": "code",
   "execution_count": 24,
   "metadata": {},
   "outputs": [
    {
     "data": {
      "text/plain": [
       "<matplotlib.axes._subplots.AxesSubplot at 0x28c8d7446a0>"
      ]
     },
     "execution_count": 24,
     "metadata": {},
     "output_type": "execute_result"
    },
    {
     "data": {
      "image/png": "[encoded data removed]",
      "text/plain": [
       "<Figure size 432x288 with 1 Axes>"
      ]
     },
     "metadata": {
      "needs_background": "light"
     },
     "output_type": "display_data"
    }
   ],
   "source": [
    "# boxplots of ordered (low-to-high) mean Avg_Sale_Amount by #_Years_as_Customer\n",
    "custyrs_meds=catmod_df.groupby(['#_Years_as_Customer'])['Avg_Sale_Amount'].median().sort_values(ascending=True)\n",
    "sns.boxplot(x='#_Years_as_Customer', y='Avg_Sale_Amount', data=catmod_df, order=custyrs_meds.index)"
   ]
  },
  {
   "cell_type": "code",
   "execution_count": 25,
   "metadata": {},
   "outputs": [
    {
     "data": {
      "text/plain": [
       "<matplotlib.axes._subplots.AxesSubplot at 0x28c8d709a58>"
      ]
     },
     "execution_count": 25,
     "metadata": {},
     "output_type": "execute_result"
    },
    {
     "data": {
      "image/png": "[encoded data removed]",
      "text/plain": [
       "<Figure size 432x288 with 1 Axes>"
      ]
     },
     "metadata": {
      "needs_background": "light"
     },
     "output_type": "display_data"
    }
   ],
   "source": [
    "# plot aggregated mean average sales vs. (increasing) ordered #_Years_as_Customer\n",
    "X=catmod_df.groupby(['#_Years_as_Customer'])['Avg_Sale_Amount'].mean().sort_values(ascending=True).index\n",
    "Y=catmod_df.groupby(['#_Years_as_Customer'])['Avg_Sale_Amount'].mean().sort_values(ascending=True).values\n",
    "\n",
    "sns.scatterplot(x=X, y=Y)"
   ]
  },
  {
   "cell_type": "markdown",
   "metadata": {},
   "source": [
    "#### The overall median 'Avg_Sale_Amount' appears to disperse as '#_Years_as_Cusomer' increases, but also appears to follow a general increasing trend if 2 and 7 were eliminated as outliers."
   ]
  },
  {
   "cell_type": "markdown",
   "metadata": {},
   "source": [
    "#### If the last two observations could indicate an impact on a multi-variable linear model, then we should still resort to utilizing P-values and fit-measures to reach such a conclusion.  "
   ]
  },
  {
   "cell_type": "markdown",
   "metadata": {},
   "source": [
    "#### The average sales means and inter-quartile ranges for store number and years as customer are fairly uniform, while there is more variation amongst cities and customer segment.  These plots can provide a visual indication of outliers with respect to average sales for each value in respective columns, but an outlier for one particular value may not overlap as an outlier for another.  Removing rows contianing outliers may lead to improved model accuracy, but to remove rows of data based on this way of finding outliers may result in removing values for which outliers do not occur in other columns.   Rather, the lack of linear trend in the mean for each of these columns may indicate poor contribution to the model in a similar way discussed above. "
   ]
  },
  {
   "cell_type": "markdown",
   "metadata": {},
   "source": [
    "## Transforming Categorical Variables for Suitable Use in a Mathematical Linear Model:\n",
    "### One-Hot-Encoding Dummy Variables:\n",
    "\n",
    "#### The term \"cardinality\" in this context, refers to the number of unique values in any particular catagorical column of a dataset.  The \"size\" of a finite mathematical set can also be described using this term, which comes along with an attached stipulation that there exists a one-to-one mapping with another set and thereby implies equivalent sizes and quantities of unique elements across the mapping between such sets.  Before attempting to launch into a much deeper formalization of this loosely paraphrased logical reduction, it hopefully won't seem to be too much of a stretch of imagination or intuition to arrive at the conclusion that cardinality can be encoded.  This is to say that each distinct value of a finite, categorical column can be described in binary terms!  In this way each uniquely individual element of a field/variable/column/set can be re-allocated to a 'yes' or 'no' value!  If the unique value exists within a given row, then a new column can be created with the name of that very same unique (old) value, then re-assigned a new binary-valued set of values depending on whether it appears in that particular row.  \n",
    "\n",
    "#### In more practical terms this means that if a generalized customer behaviorial column can be defined such as \"Segment\" = \"Loyalty\" for a uniquely indexed row, then a new column called \"Loyalty\" can be added to the dataset that contains a discrete integer value of either 0 or 1 according to the row index for which that exact and particular value appeared in.  The same can be applied to the other unique 3-values in this column, since it has a cardinality of 4.   However, if one of the new 4 columns contained a 1 then, then the other 3 must contain 0s, which wouldn't really serve any value in any circumstance.  One of these new columns of binary values can be dropped, while simultaneously the former, more linguistically descriptive column is no longer necessary.  \n",
    "\n",
    "#### Aside from the applicable, yet still vague mathematical translation of concepts, the undertaking of such logical manipulations would otherwise require a much more lengthy procedural and algorithmic manipulation of data structures to acheive this seemingly simplistically represented end result.   The re-organizing of basic elements into categories in this way would require a type of if-then sorting filter, which would further need to be performed again and again in a finite loop along with a kind of drop-replace kind of queue-like mechanism.  This kind of loop-sort algorithm would also need to be applied to find and sort the remainder of the other unique values within just that one column.  In order to apply this procedure to the other columns it would seem to be quite beneficial to be able to re-apply this already complicated logic to other similarly organized columns.  \n",
    "\n",
    "#### Thankfully, many other brilliant minds have done a lot of hard work to conceptualize these kinds of abstract concepts in order to formulate such fundamental and procedural operations into manipulatable classes of objects which were passed down and made usable to others through various forms of linguistically manipulated syntax!  Such usable objects or functions now have some more general, but specific parameters to specify in order to acheive a certain realm of outcomes in order to compute a general range of output from a broader range of more result oriented users.  Packages containing such usable functions are available in Python and used here for one-hot-encoding and linear model building.  Visual icons could then be created to represent various operations so that a broader range of user could drop and drag onto a fairly appealling looking visual interface, such as that used in the Alteryx platform, in order to completely automate a brand new workflow in order to extract, transform and load newly transformed data, then output it into another application so that it could be manipulated even further."
   ]
  },
  {
   "cell_type": "code",
   "execution_count": 26,
   "metadata": {},
   "outputs": [],
   "source": [
    "# import package for ordinary-least-squares model creation and analysis\n",
    "from statsmodels.formula.api import ols"
   ]
  },
  {
   "cell_type": "code",
   "execution_count": 27,
   "metadata": {},
   "outputs": [],
   "source": [
    "# this version of Python and modeling package did not like \"#\" in a column name, and saw it as a special character\n",
    "catmod_df.rename(columns={'#_Years_as_Customer': 'Years_as_Customer'}, inplace=True)"
   ]
  },
  {
   "cell_type": "markdown",
   "metadata": {},
   "source": [
    "#### The below code performs one-hot encoding on categorical columns.  Assuming there are no null values to begin with, which there are, then a row which does not contain a value of '1' for any of the (n-1) encoded columns it must contain a 1 for the nth coded column.  An easy way to adjust for this is to simply drop the last encoded column, which for \"City\", is \"Wheat Ridge\".   "
   ]
  },
  {
   "cell_type": "code",
   "execution_count": 54,
   "metadata": {},
   "outputs": [
    {
     "data": {
      "text/html": [
       "<div>\n",
       "<style scoped>\n",
       "    .dataframe tbody tr th:only-of-type {\n",
       "        vertical-align: middle;\n",
       "    }\n",
       "\n",
       "    .dataframe tbody tr th {\n",
       "        vertical-align: top;\n",
       "    }\n",
       "\n",
       "    .dataframe thead th {\n",
       "        text-align: right;\n",
       "    }\n",
       "</style>\n",
       "<table border=\"1\" class=\"dataframe\">\n",
       "  <thead>\n",
       "    <tr style=\"text-align: right;\">\n",
       "      <th></th>\n",
       "      <th>Customer_Segment</th>\n",
       "      <th>Avg_Sale_Amount</th>\n",
       "      <th>Store_Number</th>\n",
       "      <th>Avg_Num_Products_Purchased</th>\n",
       "      <th>Years_as_Customer</th>\n",
       "      <th>Arvada</th>\n",
       "      <th>Aurora</th>\n",
       "      <th>Boulder</th>\n",
       "      <th>Brighton</th>\n",
       "      <th>Broomfield</th>\n",
       "      <th>...</th>\n",
       "      <th>Lakewood</th>\n",
       "      <th>Littleton</th>\n",
       "      <th>Lone Tree</th>\n",
       "      <th>Louisville</th>\n",
       "      <th>Morrison</th>\n",
       "      <th>Northglenn</th>\n",
       "      <th>Parker</th>\n",
       "      <th>Superior</th>\n",
       "      <th>Thornton</th>\n",
       "      <th>Westminster</th>\n",
       "    </tr>\n",
       "  </thead>\n",
       "  <tbody>\n",
       "    <tr>\n",
       "      <th>0</th>\n",
       "      <td>Store Mailing List</td>\n",
       "      <td>227.90</td>\n",
       "      <td>100</td>\n",
       "      <td>1</td>\n",
       "      <td>6</td>\n",
       "      <td>0</td>\n",
       "      <td>0</td>\n",
       "      <td>0</td>\n",
       "      <td>0</td>\n",
       "      <td>0</td>\n",
       "      <td>...</td>\n",
       "      <td>0</td>\n",
       "      <td>0</td>\n",
       "      <td>0</td>\n",
       "      <td>0</td>\n",
       "      <td>0</td>\n",
       "      <td>0</td>\n",
       "      <td>0</td>\n",
       "      <td>0</td>\n",
       "      <td>0</td>\n",
       "      <td>0</td>\n",
       "    </tr>\n",
       "    <tr>\n",
       "      <th>1</th>\n",
       "      <td>Store Mailing List</td>\n",
       "      <td>55.00</td>\n",
       "      <td>105</td>\n",
       "      <td>1</td>\n",
       "      <td>6</td>\n",
       "      <td>0</td>\n",
       "      <td>0</td>\n",
       "      <td>0</td>\n",
       "      <td>0</td>\n",
       "      <td>0</td>\n",
       "      <td>...</td>\n",
       "      <td>0</td>\n",
       "      <td>0</td>\n",
       "      <td>0</td>\n",
       "      <td>0</td>\n",
       "      <td>0</td>\n",
       "      <td>0</td>\n",
       "      <td>0</td>\n",
       "      <td>0</td>\n",
       "      <td>0</td>\n",
       "      <td>0</td>\n",
       "    </tr>\n",
       "    <tr>\n",
       "      <th>2</th>\n",
       "      <td>Store Mailing List</td>\n",
       "      <td>212.57</td>\n",
       "      <td>101</td>\n",
       "      <td>1</td>\n",
       "      <td>3</td>\n",
       "      <td>0</td>\n",
       "      <td>0</td>\n",
       "      <td>0</td>\n",
       "      <td>0</td>\n",
       "      <td>0</td>\n",
       "      <td>...</td>\n",
       "      <td>0</td>\n",
       "      <td>0</td>\n",
       "      <td>0</td>\n",
       "      <td>0</td>\n",
       "      <td>0</td>\n",
       "      <td>0</td>\n",
       "      <td>0</td>\n",
       "      <td>0</td>\n",
       "      <td>0</td>\n",
       "      <td>0</td>\n",
       "    </tr>\n",
       "    <tr>\n",
       "      <th>3</th>\n",
       "      <td>Store Mailing List</td>\n",
       "      <td>195.31</td>\n",
       "      <td>105</td>\n",
       "      <td>1</td>\n",
       "      <td>6</td>\n",
       "      <td>0</td>\n",
       "      <td>0</td>\n",
       "      <td>0</td>\n",
       "      <td>0</td>\n",
       "      <td>0</td>\n",
       "      <td>...</td>\n",
       "      <td>0</td>\n",
       "      <td>0</td>\n",
       "      <td>0</td>\n",
       "      <td>0</td>\n",
       "      <td>0</td>\n",
       "      <td>0</td>\n",
       "      <td>0</td>\n",
       "      <td>0</td>\n",
       "      <td>0</td>\n",
       "      <td>0</td>\n",
       "    </tr>\n",
       "    <tr>\n",
       "      <th>4</th>\n",
       "      <td>Store Mailing List</td>\n",
       "      <td>110.55</td>\n",
       "      <td>100</td>\n",
       "      <td>1</td>\n",
       "      <td>2</td>\n",
       "      <td>0</td>\n",
       "      <td>0</td>\n",
       "      <td>0</td>\n",
       "      <td>0</td>\n",
       "      <td>0</td>\n",
       "      <td>...</td>\n",
       "      <td>0</td>\n",
       "      <td>0</td>\n",
       "      <td>0</td>\n",
       "      <td>0</td>\n",
       "      <td>0</td>\n",
       "      <td>0</td>\n",
       "      <td>0</td>\n",
       "      <td>0</td>\n",
       "      <td>0</td>\n",
       "      <td>0</td>\n",
       "    </tr>\n",
       "  </tbody>\n",
       "</table>\n",
       "<p>5 rows × 31 columns</p>\n",
       "</div>"
      ],
      "text/plain": [
       "     Customer_Segment  Avg_Sale_Amount  Store_Number  \\\n",
       "0  Store Mailing List           227.90           100   \n",
       "1  Store Mailing List            55.00           105   \n",
       "2  Store Mailing List           212.57           101   \n",
       "3  Store Mailing List           195.31           105   \n",
       "4  Store Mailing List           110.55           100   \n",
       "\n",
       "   Avg_Num_Products_Purchased  Years_as_Customer  Arvada  Aurora  Boulder  \\\n",
       "0                           1                  6       0       0        0   \n",
       "1                           1                  6       0       0        0   \n",
       "2                           1                  3       0       0        0   \n",
       "3                           1                  6       0       0        0   \n",
       "4                           1                  2       0       0        0   \n",
       "\n",
       "   Brighton  Broomfield  ...  Lakewood  Littleton  Lone Tree  Louisville  \\\n",
       "0         0           0  ...         0          0          0           0   \n",
       "1         0           0  ...         0          0          0           0   \n",
       "2         0           0  ...         0          0          0           0   \n",
       "3         0           0  ...         0          0          0           0   \n",
       "4         0           0  ...         0          0          0           0   \n",
       "\n",
       "   Morrison  Northglenn  Parker  Superior  Thornton  Westminster  \n",
       "0         0           0       0         0         0            0  \n",
       "1         0           0       0         0         0            0  \n",
       "2         0           0       0         0         0            0  \n",
       "3         0           0       0         0         0            0  \n",
       "4         0           0       0         0         0            0  \n",
       "\n",
       "[5 rows x 31 columns]"
      ]
     },
     "execution_count": 54,
     "metadata": {},
     "output_type": "execute_result"
    }
   ],
   "source": [
    "city_ohe = pd.get_dummies(catmod_df['City'])\n",
    "catmod_df_2 = catmod_df.join(city_ohe)\n",
    "catmod_df_2.drop(['City'], axis=1, inplace=True)\n",
    "catmod_df_2.drop(['Wheat Ridge'], axis=1, inplace = True)\n",
    "catmod_df_2.head()"
   ]
  },
  {
   "cell_type": "code",
   "execution_count": 56,
   "metadata": {},
   "outputs": [
    {
     "data": {
      "text/html": [
       "<div>\n",
       "<style scoped>\n",
       "    .dataframe tbody tr th:only-of-type {\n",
       "        vertical-align: middle;\n",
       "    }\n",
       "\n",
       "    .dataframe tbody tr th {\n",
       "        vertical-align: top;\n",
       "    }\n",
       "\n",
       "    .dataframe thead th {\n",
       "        text-align: right;\n",
       "    }\n",
       "</style>\n",
       "<table border=\"1\" class=\"dataframe\">\n",
       "  <thead>\n",
       "    <tr style=\"text-align: right;\">\n",
       "      <th></th>\n",
       "      <th>Customer_Segment</th>\n",
       "      <th>Avg_Sale_Amount</th>\n",
       "      <th>Avg_Num_Products_Purchased</th>\n",
       "      <th>Years_as_Customer</th>\n",
       "      <th>Arvada</th>\n",
       "      <th>Aurora</th>\n",
       "      <th>Boulder</th>\n",
       "      <th>Brighton</th>\n",
       "      <th>Broomfield</th>\n",
       "      <th>Castle Pines</th>\n",
       "      <th>...</th>\n",
       "      <th>Westminster</th>\n",
       "      <th>101</th>\n",
       "      <th>102</th>\n",
       "      <th>103</th>\n",
       "      <th>104</th>\n",
       "      <th>105</th>\n",
       "      <th>106</th>\n",
       "      <th>107</th>\n",
       "      <th>108</th>\n",
       "      <th>109</th>\n",
       "    </tr>\n",
       "  </thead>\n",
       "  <tbody>\n",
       "    <tr>\n",
       "      <th>0</th>\n",
       "      <td>Store Mailing List</td>\n",
       "      <td>227.90</td>\n",
       "      <td>1</td>\n",
       "      <td>6</td>\n",
       "      <td>0</td>\n",
       "      <td>0</td>\n",
       "      <td>0</td>\n",
       "      <td>0</td>\n",
       "      <td>0</td>\n",
       "      <td>0</td>\n",
       "      <td>...</td>\n",
       "      <td>0</td>\n",
       "      <td>0</td>\n",
       "      <td>0</td>\n",
       "      <td>0</td>\n",
       "      <td>0</td>\n",
       "      <td>0</td>\n",
       "      <td>0</td>\n",
       "      <td>0</td>\n",
       "      <td>0</td>\n",
       "      <td>0</td>\n",
       "    </tr>\n",
       "    <tr>\n",
       "      <th>1</th>\n",
       "      <td>Store Mailing List</td>\n",
       "      <td>55.00</td>\n",
       "      <td>1</td>\n",
       "      <td>6</td>\n",
       "      <td>0</td>\n",
       "      <td>0</td>\n",
       "      <td>0</td>\n",
       "      <td>0</td>\n",
       "      <td>0</td>\n",
       "      <td>0</td>\n",
       "      <td>...</td>\n",
       "      <td>0</td>\n",
       "      <td>0</td>\n",
       "      <td>0</td>\n",
       "      <td>0</td>\n",
       "      <td>0</td>\n",
       "      <td>1</td>\n",
       "      <td>0</td>\n",
       "      <td>0</td>\n",
       "      <td>0</td>\n",
       "      <td>0</td>\n",
       "    </tr>\n",
       "    <tr>\n",
       "      <th>2</th>\n",
       "      <td>Store Mailing List</td>\n",
       "      <td>212.57</td>\n",
       "      <td>1</td>\n",
       "      <td>3</td>\n",
       "      <td>0</td>\n",
       "      <td>0</td>\n",
       "      <td>0</td>\n",
       "      <td>0</td>\n",
       "      <td>0</td>\n",
       "      <td>0</td>\n",
       "      <td>...</td>\n",
       "      <td>0</td>\n",
       "      <td>1</td>\n",
       "      <td>0</td>\n",
       "      <td>0</td>\n",
       "      <td>0</td>\n",
       "      <td>0</td>\n",
       "      <td>0</td>\n",
       "      <td>0</td>\n",
       "      <td>0</td>\n",
       "      <td>0</td>\n",
       "    </tr>\n",
       "    <tr>\n",
       "      <th>3</th>\n",
       "      <td>Store Mailing List</td>\n",
       "      <td>195.31</td>\n",
       "      <td>1</td>\n",
       "      <td>6</td>\n",
       "      <td>0</td>\n",
       "      <td>0</td>\n",
       "      <td>0</td>\n",
       "      <td>0</td>\n",
       "      <td>0</td>\n",
       "      <td>0</td>\n",
       "      <td>...</td>\n",
       "      <td>0</td>\n",
       "      <td>0</td>\n",
       "      <td>0</td>\n",
       "      <td>0</td>\n",
       "      <td>0</td>\n",
       "      <td>1</td>\n",
       "      <td>0</td>\n",
       "      <td>0</td>\n",
       "      <td>0</td>\n",
       "      <td>0</td>\n",
       "    </tr>\n",
       "    <tr>\n",
       "      <th>4</th>\n",
       "      <td>Store Mailing List</td>\n",
       "      <td>110.55</td>\n",
       "      <td>1</td>\n",
       "      <td>2</td>\n",
       "      <td>0</td>\n",
       "      <td>0</td>\n",
       "      <td>0</td>\n",
       "      <td>0</td>\n",
       "      <td>0</td>\n",
       "      <td>0</td>\n",
       "      <td>...</td>\n",
       "      <td>0</td>\n",
       "      <td>0</td>\n",
       "      <td>0</td>\n",
       "      <td>0</td>\n",
       "      <td>0</td>\n",
       "      <td>0</td>\n",
       "      <td>0</td>\n",
       "      <td>0</td>\n",
       "      <td>0</td>\n",
       "      <td>0</td>\n",
       "    </tr>\n",
       "  </tbody>\n",
       "</table>\n",
       "<p>5 rows × 39 columns</p>\n",
       "</div>"
      ],
      "text/plain": [
       "     Customer_Segment  Avg_Sale_Amount  Avg_Num_Products_Purchased  \\\n",
       "0  Store Mailing List           227.90                           1   \n",
       "1  Store Mailing List            55.00                           1   \n",
       "2  Store Mailing List           212.57                           1   \n",
       "3  Store Mailing List           195.31                           1   \n",
       "4  Store Mailing List           110.55                           1   \n",
       "\n",
       "   Years_as_Customer  Arvada  Aurora  Boulder  Brighton  Broomfield  \\\n",
       "0                  6       0       0        0         0           0   \n",
       "1                  6       0       0        0         0           0   \n",
       "2                  3       0       0        0         0           0   \n",
       "3                  6       0       0        0         0           0   \n",
       "4                  2       0       0        0         0           0   \n",
       "\n",
       "   Castle Pines  ...  Westminster  101  102  103  104  105  106  107  108  109  \n",
       "0             0  ...            0    0    0    0    0    0    0    0    0    0  \n",
       "1             0  ...            0    0    0    0    0    1    0    0    0    0  \n",
       "2             0  ...            0    1    0    0    0    0    0    0    0    0  \n",
       "3             0  ...            0    0    0    0    0    1    0    0    0    0  \n",
       "4             0  ...            0    0    0    0    0    0    0    0    0    0  \n",
       "\n",
       "[5 rows x 39 columns]"
      ]
     },
     "execution_count": 56,
     "metadata": {},
     "output_type": "execute_result"
    }
   ],
   "source": [
    "storenum_ohe = pd.get_dummies(catmod_df_2['Store_Number'])\n",
    "catmod_df_3 = catmod_df_2.join(storenum_ohe)\n",
    "catmod_df_3.drop(['Store_Number'], axis=1, inplace=True)\n",
    "catmod_df_3.drop([100], axis=1, inplace = True)\n",
    "catmod_df_3.head()"
   ]
  },
  {
   "cell_type": "code",
   "execution_count": 57,
   "metadata": {},
   "outputs": [
    {
     "data": {
      "text/html": [
       "<div>\n",
       "<style scoped>\n",
       "    .dataframe tbody tr th:only-of-type {\n",
       "        vertical-align: middle;\n",
       "    }\n",
       "\n",
       "    .dataframe tbody tr th {\n",
       "        vertical-align: top;\n",
       "    }\n",
       "\n",
       "    .dataframe thead th {\n",
       "        text-align: right;\n",
       "    }\n",
       "</style>\n",
       "<table border=\"1\" class=\"dataframe\">\n",
       "  <thead>\n",
       "    <tr style=\"text-align: right;\">\n",
       "      <th></th>\n",
       "      <th>Avg_Sale_Amount</th>\n",
       "      <th>Avg_Num_Products_Purchased</th>\n",
       "      <th>Years_as_Customer</th>\n",
       "      <th>Arvada</th>\n",
       "      <th>Aurora</th>\n",
       "      <th>Boulder</th>\n",
       "      <th>Brighton</th>\n",
       "      <th>Broomfield</th>\n",
       "      <th>Castle Pines</th>\n",
       "      <th>Centennial</th>\n",
       "      <th>...</th>\n",
       "      <th>103</th>\n",
       "      <th>104</th>\n",
       "      <th>105</th>\n",
       "      <th>106</th>\n",
       "      <th>107</th>\n",
       "      <th>108</th>\n",
       "      <th>109</th>\n",
       "      <th>Loyalty Club Only</th>\n",
       "      <th>Loyalty Club and Credit Card</th>\n",
       "      <th>Store Mailing List</th>\n",
       "    </tr>\n",
       "  </thead>\n",
       "  <tbody>\n",
       "    <tr>\n",
       "      <th>0</th>\n",
       "      <td>227.90</td>\n",
       "      <td>1</td>\n",
       "      <td>6</td>\n",
       "      <td>0</td>\n",
       "      <td>0</td>\n",
       "      <td>0</td>\n",
       "      <td>0</td>\n",
       "      <td>0</td>\n",
       "      <td>0</td>\n",
       "      <td>0</td>\n",
       "      <td>...</td>\n",
       "      <td>0</td>\n",
       "      <td>0</td>\n",
       "      <td>0</td>\n",
       "      <td>0</td>\n",
       "      <td>0</td>\n",
       "      <td>0</td>\n",
       "      <td>0</td>\n",
       "      <td>0</td>\n",
       "      <td>0</td>\n",
       "      <td>1</td>\n",
       "    </tr>\n",
       "    <tr>\n",
       "      <th>1</th>\n",
       "      <td>55.00</td>\n",
       "      <td>1</td>\n",
       "      <td>6</td>\n",
       "      <td>0</td>\n",
       "      <td>0</td>\n",
       "      <td>0</td>\n",
       "      <td>0</td>\n",
       "      <td>0</td>\n",
       "      <td>0</td>\n",
       "      <td>0</td>\n",
       "      <td>...</td>\n",
       "      <td>0</td>\n",
       "      <td>0</td>\n",
       "      <td>1</td>\n",
       "      <td>0</td>\n",
       "      <td>0</td>\n",
       "      <td>0</td>\n",
       "      <td>0</td>\n",
       "      <td>0</td>\n",
       "      <td>0</td>\n",
       "      <td>1</td>\n",
       "    </tr>\n",
       "    <tr>\n",
       "      <th>2</th>\n",
       "      <td>212.57</td>\n",
       "      <td>1</td>\n",
       "      <td>3</td>\n",
       "      <td>0</td>\n",
       "      <td>0</td>\n",
       "      <td>0</td>\n",
       "      <td>0</td>\n",
       "      <td>0</td>\n",
       "      <td>0</td>\n",
       "      <td>1</td>\n",
       "      <td>...</td>\n",
       "      <td>0</td>\n",
       "      <td>0</td>\n",
       "      <td>0</td>\n",
       "      <td>0</td>\n",
       "      <td>0</td>\n",
       "      <td>0</td>\n",
       "      <td>0</td>\n",
       "      <td>0</td>\n",
       "      <td>0</td>\n",
       "      <td>1</td>\n",
       "    </tr>\n",
       "    <tr>\n",
       "      <th>3</th>\n",
       "      <td>195.31</td>\n",
       "      <td>1</td>\n",
       "      <td>6</td>\n",
       "      <td>0</td>\n",
       "      <td>0</td>\n",
       "      <td>0</td>\n",
       "      <td>0</td>\n",
       "      <td>0</td>\n",
       "      <td>0</td>\n",
       "      <td>0</td>\n",
       "      <td>...</td>\n",
       "      <td>0</td>\n",
       "      <td>0</td>\n",
       "      <td>1</td>\n",
       "      <td>0</td>\n",
       "      <td>0</td>\n",
       "      <td>0</td>\n",
       "      <td>0</td>\n",
       "      <td>0</td>\n",
       "      <td>0</td>\n",
       "      <td>1</td>\n",
       "    </tr>\n",
       "    <tr>\n",
       "      <th>4</th>\n",
       "      <td>110.55</td>\n",
       "      <td>1</td>\n",
       "      <td>2</td>\n",
       "      <td>0</td>\n",
       "      <td>0</td>\n",
       "      <td>0</td>\n",
       "      <td>0</td>\n",
       "      <td>0</td>\n",
       "      <td>0</td>\n",
       "      <td>0</td>\n",
       "      <td>...</td>\n",
       "      <td>0</td>\n",
       "      <td>0</td>\n",
       "      <td>0</td>\n",
       "      <td>0</td>\n",
       "      <td>0</td>\n",
       "      <td>0</td>\n",
       "      <td>0</td>\n",
       "      <td>0</td>\n",
       "      <td>0</td>\n",
       "      <td>1</td>\n",
       "    </tr>\n",
       "  </tbody>\n",
       "</table>\n",
       "<p>5 rows × 41 columns</p>\n",
       "</div>"
      ],
      "text/plain": [
       "   Avg_Sale_Amount  Avg_Num_Products_Purchased  Years_as_Customer  Arvada  \\\n",
       "0           227.90                           1                  6       0   \n",
       "1            55.00                           1                  6       0   \n",
       "2           212.57                           1                  3       0   \n",
       "3           195.31                           1                  6       0   \n",
       "4           110.55                           1                  2       0   \n",
       "\n",
       "   Aurora  Boulder  Brighton  Broomfield  Castle Pines  Centennial  ...  103  \\\n",
       "0       0        0         0           0             0           0  ...    0   \n",
       "1       0        0         0           0             0           0  ...    0   \n",
       "2       0        0         0           0             0           1  ...    0   \n",
       "3       0        0         0           0             0           0  ...    0   \n",
       "4       0        0         0           0             0           0  ...    0   \n",
       "\n",
       "   104  105  106  107  108  109  Loyalty Club Only  \\\n",
       "0    0    0    0    0    0    0                  0   \n",
       "1    0    1    0    0    0    0                  0   \n",
       "2    0    0    0    0    0    0                  0   \n",
       "3    0    1    0    0    0    0                  0   \n",
       "4    0    0    0    0    0    0                  0   \n",
       "\n",
       "   Loyalty Club and Credit Card  Store Mailing List  \n",
       "0                             0                   1  \n",
       "1                             0                   1  \n",
       "2                             0                   1  \n",
       "3                             0                   1  \n",
       "4                             0                   1  \n",
       "\n",
       "[5 rows x 41 columns]"
      ]
     },
     "execution_count": 57,
     "metadata": {},
     "output_type": "execute_result"
    }
   ],
   "source": [
    "custseg_ohe = pd.get_dummies(catmod_df_3['Customer_Segment'])\n",
    "catmod_df_4 = catmod_df_3.join(custseg_ohe)\n",
    "catmod_df_4.drop(['Customer_Segment'], axis=1, inplace=True)\n",
    "# dropping 'Credit Card Only' as the base case\n",
    "catmod_df_4.drop(['Credit Card Only'], axis=1, inplace=True)\n",
    "catmod_df_4.head()"
   ]
  },
  {
   "cell_type": "code",
   "execution_count": 62,
   "metadata": {},
   "outputs": [],
   "source": [
    "catmod_df_4.rename(columns={'Castle Pines' : 'Castle_Pines', 'Commerce City' : 'Commerce_City', \n",
    "                          'Greenwood Village' : 'Greenwood_Village', 'Highlands Ranch' : 'Highlands_Ranch',\n",
    "                          'Lone Tree': 'Lone_Tree', 101 : 'OneHundredOne', 102 : 'OneHundredTwo',\n",
    "                          103 : 'OneHundredThree', 104 : 'OneHundredFour',\n",
    "                          105 : 'OneHundredFive', 106 : 'OneHundredSix', 107 : 'OneHundredSeven', \n",
    "                          108 : 'OneHundredEight', 109 : 'OneHundredNine', 'Loyalty Club Only' : 'Loyalty_Club_Only',\n",
    "                          'Loyalty Club and Credit Card' : 'Loyalty_Club_and_Credit_Card',\n",
    "                          'Store Mailing List' : 'Store_Mailing_List'}, inplace=True)"
   ]
  },
  {
   "cell_type": "code",
   "execution_count": 63,
   "metadata": {},
   "outputs": [
    {
     "data": {
      "text/plain": [
       "Index(['Avg_Sale_Amount', 'Avg_Num_Products_Purchased', 'Years_as_Customer',\n",
       "       'Arvada', 'Aurora', 'Boulder', 'Brighton', 'Broomfield', 'Castle_Pines',\n",
       "       'Centennial', 'Commerce_City', 'Denver', 'Edgewater', 'Englewood',\n",
       "       'Golden', 'Greenwood_Village', 'Henderson', 'Highlands_Ranch',\n",
       "       'Lafayette', 'Lakewood', 'Littleton', 'Lone_Tree', 'Louisville',\n",
       "       'Morrison', 'Northglenn', 'Parker', 'Superior', 'Thornton',\n",
       "       'Westminster', 'OneHundredOne', 'OneHundredTwo', 'OneHundredThree',\n",
       "       'OneHundredFour', 'OneHundredFive', 'OneHundredSix', 'OneHundredSeven',\n",
       "       'OneHundredEight', 'OneHundredNine', 'Loyalty_Club_Only',\n",
       "       'Loyalty_Club_and_Credit_Card', 'Store_Mailing_List'],\n",
       "      dtype='object')"
      ]
     },
     "execution_count": 63,
     "metadata": {},
     "output_type": "execute_result"
    }
   ],
   "source": [
    "catmod_df_4.columns"
   ]
  },
  {
   "cell_type": "markdown",
   "metadata": {},
   "source": [
    "# Finding the best Ordinary-Least-Squares (OLS) model."
   ]
  },
  {
   "cell_type": "markdown",
   "metadata": {},
   "source": [
    "#### When first attempting to create the model, Python did not like having column names with spaces or numeric column names.  Replacing spaces with underscores and integers with the word representations of the last digit will alleviate this syntax related impediment."
   ]
  },
  {
   "cell_type": "markdown",
   "metadata": {},
   "source": [
    "### Now, an initial ordinary-least-squares model can be created."
   ]
  },
  {
   "cell_type": "code",
   "execution_count": 64,
   "metadata": {},
   "outputs": [],
   "source": [
    "lin_mdl_v1 = ols('Avg_Sale_Amount ~ Avg_Num_Products_Purchased + Years_as_Customer + Arvada + Aurora + Boulder + Brighton + Broomfield + Castle_Pines + Centennial + Commerce_City + Denver + Edgewater + Englewood + Golden + Greenwood_Village + Henderson + Highlands_Ranch + Lafayette + Lakewood + Littleton + Lone_Tree + Louisville + Morrison + Northglenn + Parker + Superior + Thornton + Westminster  + OneHundredOne + OneHundredTwo + OneHundredThree + OneHundredFour + OneHundredFive + OneHundredSix + OneHundredSeven + OneHundredEight + OneHundredNine + Loyalty_Club_Only + Loyalty_Club_and_Credit_Card + Store_Mailing_List' \n",
    "                ,data = catmod_df_4).fit()"
   ]
  },
  {
   "cell_type": "code",
   "execution_count": 65,
   "metadata": {},
   "outputs": [
    {
     "data": {
      "text/html": [
       "<table class=\"simpletable\">\n",
       "<caption>OLS Regression Results</caption>\n",
       "<tr>\n",
       "  <th>Dep. Variable:</th>     <td>Avg_Sale_Amount</td> <th>  R-squared:         </th> <td>   0.839</td> \n",
       "</tr>\n",
       "<tr>\n",
       "  <th>Model:</th>                   <td>OLS</td>       <th>  Adj. R-squared:    </th> <td>   0.836</td> \n",
       "</tr>\n",
       "<tr>\n",
       "  <th>Method:</th>             <td>Least Squares</td>  <th>  F-statistic:       </th> <td>   304.5</td> \n",
       "</tr>\n",
       "<tr>\n",
       "  <th>Date:</th>             <td>Wed, 28 Jun 2023</td> <th>  Prob (F-statistic):</th>  <td>  0.00</td>  \n",
       "</tr>\n",
       "<tr>\n",
       "  <th>Time:</th>                 <td>10:28:29</td>     <th>  Log-Likelihood:    </th> <td> -15044.</td> \n",
       "</tr>\n",
       "<tr>\n",
       "  <th>No. Observations:</th>      <td>  2375</td>      <th>  AIC:               </th> <td>3.017e+04</td>\n",
       "</tr>\n",
       "<tr>\n",
       "  <th>Df Residuals:</th>          <td>  2334</td>      <th>  BIC:               </th> <td>3.041e+04</td>\n",
       "</tr>\n",
       "<tr>\n",
       "  <th>Df Model:</th>              <td>    40</td>      <th>                     </th>     <td> </td>    \n",
       "</tr>\n",
       "<tr>\n",
       "  <th>Covariance Type:</th>      <td>nonrobust</td>    <th>                     </th>     <td> </td>    \n",
       "</tr>\n",
       "</table>\n",
       "<table class=\"simpletable\">\n",
       "<tr>\n",
       "                <td></td>                  <th>coef</th>     <th>std err</th>      <th>t</th>      <th>P>|t|</th>  <th>[0.025</th>    <th>0.975]</th>  \n",
       "</tr>\n",
       "<tr>\n",
       "  <th>Intercept</th>                    <td>  338.7096</td> <td>   24.314</td> <td>   13.931</td> <td> 0.000</td> <td>  291.031</td> <td>  386.389</td>\n",
       "</tr>\n",
       "<tr>\n",
       "  <th>Avg_Num_Products_Purchased</th>   <td>   67.1014</td> <td>    1.529</td> <td>   43.877</td> <td> 0.000</td> <td>   64.102</td> <td>   70.100</td>\n",
       "</tr>\n",
       "<tr>\n",
       "  <th>Years_as_Customer</th>            <td>   -2.5182</td> <td>    1.238</td> <td>   -2.035</td> <td> 0.042</td> <td>   -4.945</td> <td>   -0.091</td>\n",
       "</tr>\n",
       "<tr>\n",
       "  <th>Arvada</th>                       <td>  -14.4721</td> <td>   21.508</td> <td>   -0.673</td> <td> 0.501</td> <td>  -56.650</td> <td>   27.705</td>\n",
       "</tr>\n",
       "<tr>\n",
       "  <th>Aurora</th>                       <td>  -28.6447</td> <td>   22.863</td> <td>   -1.253</td> <td> 0.210</td> <td>  -73.478</td> <td>   16.189</td>\n",
       "</tr>\n",
       "<tr>\n",
       "  <th>Boulder</th>                      <td>  -80.8697</td> <td>   83.149</td> <td>   -0.973</td> <td> 0.331</td> <td> -243.923</td> <td>   82.183</td>\n",
       "</tr>\n",
       "<tr>\n",
       "  <th>Brighton</th>                     <td>  -99.9198</td> <td>   99.786</td> <td>   -1.001</td> <td> 0.317</td> <td> -295.597</td> <td>   95.758</td>\n",
       "</tr>\n",
       "<tr>\n",
       "  <th>Broomfield</th>                   <td>  -33.3995</td> <td>   24.799</td> <td>   -1.347</td> <td> 0.178</td> <td>  -82.030</td> <td>   15.231</td>\n",
       "</tr>\n",
       "<tr>\n",
       "  <th>Castle_Pines</th>                 <td> -112.6033</td> <td>  101.284</td> <td>   -1.112</td> <td> 0.266</td> <td> -311.219</td> <td>   86.012</td>\n",
       "</tr>\n",
       "<tr>\n",
       "  <th>Centennial</th>                   <td>  -18.2795</td> <td>   26.900</td> <td>   -0.680</td> <td> 0.497</td> <td>  -71.030</td> <td>   34.471</td>\n",
       "</tr>\n",
       "<tr>\n",
       "  <th>Commerce_City</th>                <td>  -46.9168</td> <td>   47.948</td> <td>   -0.979</td> <td> 0.328</td> <td> -140.941</td> <td>   47.108</td>\n",
       "</tr>\n",
       "<tr>\n",
       "  <th>Denver</th>                       <td>   -9.0915</td> <td>   20.235</td> <td>   -0.449</td> <td> 0.653</td> <td>  -48.772</td> <td>   30.589</td>\n",
       "</tr>\n",
       "<tr>\n",
       "  <th>Edgewater</th>                    <td>   23.8318</td> <td>   44.053</td> <td>    0.541</td> <td> 0.589</td> <td>  -62.555</td> <td>  110.219</td>\n",
       "</tr>\n",
       "<tr>\n",
       "  <th>Englewood</th>                    <td>   -2.8789</td> <td>   27.458</td> <td>   -0.105</td> <td> 0.917</td> <td>  -56.723</td> <td>   50.966</td>\n",
       "</tr>\n",
       "<tr>\n",
       "  <th>Golden</th>                       <td>  -21.0606</td> <td>   36.815</td> <td>   -0.572</td> <td> 0.567</td> <td>  -93.254</td> <td>   51.133</td>\n",
       "</tr>\n",
       "<tr>\n",
       "  <th>Greenwood_Village</th>            <td>  -59.3263</td> <td>   42.620</td> <td>   -1.392</td> <td> 0.164</td> <td> -142.904</td> <td>   24.252</td>\n",
       "</tr>\n",
       "<tr>\n",
       "  <th>Henderson</th>                    <td> -288.2340</td> <td>  139.176</td> <td>   -2.071</td> <td> 0.038</td> <td> -561.156</td> <td>  -15.312</td>\n",
       "</tr>\n",
       "<tr>\n",
       "  <th>Highlands_Ranch</th>              <td>  -36.5585</td> <td>   35.621</td> <td>   -1.026</td> <td> 0.305</td> <td> -106.410</td> <td>   33.293</td>\n",
       "</tr>\n",
       "<tr>\n",
       "  <th>Lafayette</th>                    <td>  -70.1643</td> <td>   65.340</td> <td>   -1.074</td> <td> 0.283</td> <td> -198.296</td> <td>   57.967</td>\n",
       "</tr>\n",
       "<tr>\n",
       "  <th>Lakewood</th>                     <td>  -13.2208</td> <td>   21.682</td> <td>   -0.610</td> <td> 0.542</td> <td>  -55.739</td> <td>   29.297</td>\n",
       "</tr>\n",
       "<tr>\n",
       "  <th>Littleton</th>                    <td>  -36.5494</td> <td>   26.422</td> <td>   -1.383</td> <td> 0.167</td> <td>  -88.362</td> <td>   15.263</td>\n",
       "</tr>\n",
       "<tr>\n",
       "  <th>Lone_Tree</th>                    <td>   71.7791</td> <td>  139.692</td> <td>    0.514</td> <td> 0.607</td> <td> -202.154</td> <td>  345.712</td>\n",
       "</tr>\n",
       "<tr>\n",
       "  <th>Louisville</th>                   <td>  -63.1000</td> <td>   72.421</td> <td>   -0.871</td> <td> 0.384</td> <td> -205.117</td> <td>   78.917</td>\n",
       "</tr>\n",
       "<tr>\n",
       "  <th>Morrison</th>                     <td>  -22.9778</td> <td>   55.933</td> <td>   -0.411</td> <td> 0.681</td> <td> -132.662</td> <td>   86.706</td>\n",
       "</tr>\n",
       "<tr>\n",
       "  <th>Northglenn</th>                   <td>  -39.5466</td> <td>   34.809</td> <td>   -1.136</td> <td> 0.256</td> <td> -107.807</td> <td>   28.714</td>\n",
       "</tr>\n",
       "<tr>\n",
       "  <th>Parker</th>                       <td>  -24.8182</td> <td>   37.359</td> <td>   -0.664</td> <td> 0.507</td> <td>  -98.078</td> <td>   48.441</td>\n",
       "</tr>\n",
       "<tr>\n",
       "  <th>Superior</th>                     <td>  -85.7841</td> <td>   50.909</td> <td>   -1.685</td> <td> 0.092</td> <td> -185.616</td> <td>   14.048</td>\n",
       "</tr>\n",
       "<tr>\n",
       "  <th>Thornton</th>                     <td>    5.0410</td> <td>   31.124</td> <td>    0.162</td> <td> 0.871</td> <td>  -55.992</td> <td>   66.074</td>\n",
       "</tr>\n",
       "<tr>\n",
       "  <th>Westminster</th>                  <td>  -29.7394</td> <td>   25.350</td> <td>   -1.173</td> <td> 0.241</td> <td>  -79.450</td> <td>   19.971</td>\n",
       "</tr>\n",
       "<tr>\n",
       "  <th>OneHundredOne</th>                <td>   -2.5913</td> <td>   12.208</td> <td>   -0.212</td> <td> 0.832</td> <td>  -26.531</td> <td>   21.349</td>\n",
       "</tr>\n",
       "<tr>\n",
       "  <th>OneHundredTwo</th>                <td>    7.9848</td> <td>   20.044</td> <td>    0.398</td> <td> 0.690</td> <td>  -31.321</td> <td>   47.291</td>\n",
       "</tr>\n",
       "<tr>\n",
       "  <th>OneHundredThree</th>              <td>    2.9270</td> <td>   15.467</td> <td>    0.189</td> <td> 0.850</td> <td>  -27.403</td> <td>   33.257</td>\n",
       "</tr>\n",
       "<tr>\n",
       "  <th>OneHundredFour</th>               <td>  -10.2196</td> <td>   13.106</td> <td>   -0.780</td> <td> 0.436</td> <td>  -35.919</td> <td>   15.480</td>\n",
       "</tr>\n",
       "<tr>\n",
       "  <th>OneHundredFive</th>               <td>  -11.4904</td> <td>   12.038</td> <td>   -0.955</td> <td> 0.340</td> <td>  -35.097</td> <td>   12.116</td>\n",
       "</tr>\n",
       "<tr>\n",
       "  <th>OneHundredSix</th>                <td>  -18.7436</td> <td>   12.497</td> <td>   -1.500</td> <td> 0.134</td> <td>  -43.251</td> <td>    5.763</td>\n",
       "</tr>\n",
       "<tr>\n",
       "  <th>OneHundredSeven</th>              <td>  -17.2443</td> <td>   13.061</td> <td>   -1.320</td> <td> 0.187</td> <td>  -42.856</td> <td>    8.368</td>\n",
       "</tr>\n",
       "<tr>\n",
       "  <th>OneHundredEight</th>              <td>  -10.1853</td> <td>   14.964</td> <td>   -0.681</td> <td> 0.496</td> <td>  -39.530</td> <td>   19.160</td>\n",
       "</tr>\n",
       "<tr>\n",
       "  <th>OneHundredNine</th>               <td>   15.3009</td> <td>   17.848</td> <td>    0.857</td> <td> 0.391</td> <td>  -19.699</td> <td>   50.301</td>\n",
       "</tr>\n",
       "<tr>\n",
       "  <th>Loyalty_Club_Only</th>            <td> -149.2751</td> <td>    9.041</td> <td>  -16.511</td> <td> 0.000</td> <td> -167.005</td> <td> -131.545</td>\n",
       "</tr>\n",
       "<tr>\n",
       "  <th>Loyalty_Club_and_Credit_Card</th> <td>  283.4565</td> <td>   11.987</td> <td>   23.648</td> <td> 0.000</td> <td>  259.951</td> <td>  306.962</td>\n",
       "</tr>\n",
       "<tr>\n",
       "  <th>Store_Mailing_List</th>           <td> -244.8122</td> <td>    9.863</td> <td>  -24.821</td> <td> 0.000</td> <td> -264.154</td> <td> -225.471</td>\n",
       "</tr>\n",
       "</table>\n",
       "<table class=\"simpletable\">\n",
       "<tr>\n",
       "  <th>Omnibus:</th>       <td>354.583</td> <th>  Durbin-Watson:     </th> <td>   2.043</td>\n",
       "</tr>\n",
       "<tr>\n",
       "  <th>Prob(Omnibus):</th> <td> 0.000</td>  <th>  Jarque-Bera (JB):  </th> <td>4663.569</td>\n",
       "</tr>\n",
       "<tr>\n",
       "  <th>Skew:</th>          <td> 0.217</td>  <th>  Prob(JB):          </th> <td>    0.00</td>\n",
       "</tr>\n",
       "<tr>\n",
       "  <th>Kurtosis:</th>      <td> 9.851</td>  <th>  Cond. No.          </th> <td>    318.</td>\n",
       "</tr>\n",
       "</table><br/><br/>Warnings:<br/>[1] Standard Errors assume that the covariance matrix of the errors is correctly specified."
      ],
      "text/plain": [
       "<class 'statsmodels.iolib.summary.Summary'>\n",
       "\"\"\"\n",
       "                            OLS Regression Results                            \n",
       "==============================================================================\n",
       "Dep. Variable:        Avg_Sale_Amount   R-squared:                       0.839\n",
       "Model:                            OLS   Adj. R-squared:                  0.836\n",
       "Method:                 Least Squares   F-statistic:                     304.5\n",
       "Date:                Wed, 28 Jun 2023   Prob (F-statistic):               0.00\n",
       "Time:                        10:28:29   Log-Likelihood:                -15044.\n",
       "No. Observations:                2375   AIC:                         3.017e+04\n",
       "Df Residuals:                    2334   BIC:                         3.041e+04\n",
       "Df Model:                          40                                         \n",
       "Covariance Type:            nonrobust                                         \n",
       "================================================================================================\n",
       "                                   coef    std err          t      P>|t|      [0.025      0.975]\n",
       "------------------------------------------------------------------------------------------------\n",
       "Intercept                      338.7096     24.314     13.931      0.000     291.031     386.389\n",
       "Avg_Num_Products_Purchased      67.1014      1.529     43.877      0.000      64.102      70.100\n",
       "Years_as_Customer               -2.5182      1.238     -2.035      0.042      -4.945      -0.091\n",
       "Arvada                         -14.4721     21.508     -0.673      0.501     -56.650      27.705\n",
       "Aurora                         -28.6447     22.863     -1.253      0.210     -73.478      16.189\n",
       "Boulder                        -80.8697     83.149     -0.973      0.331    -243.923      82.183\n",
       "Brighton                       -99.9198     99.786     -1.001      0.317    -295.597      95.758\n",
       "Broomfield                     -33.3995     24.799     -1.347      0.178     -82.030      15.231\n",
       "Castle_Pines                  -112.6033    101.284     -1.112      0.266    -311.219      86.012\n",
       "Centennial                     -18.2795     26.900     -0.680      0.497     -71.030      34.471\n",
       "Commerce_City                  -46.9168     47.948     -0.979      0.328    -140.941      47.108\n",
       "Denver                          -9.0915     20.235     -0.449      0.653     -48.772      30.589\n",
       "Edgewater                       23.8318     44.053      0.541      0.589     -62.555     110.219\n",
       "Englewood                       -2.8789     27.458     -0.105      0.917     -56.723      50.966\n",
       "Golden                         -21.0606     36.815     -0.572      0.567     -93.254      51.133\n",
       "Greenwood_Village              -59.3263     42.620     -1.392      0.164    -142.904      24.252\n",
       "Henderson                     -288.2340    139.176     -2.071      0.038    -561.156     -15.312\n",
       "Highlands_Ranch                -36.5585     35.621     -1.026      0.305    -106.410      33.293\n",
       "Lafayette                      -70.1643     65.340     -1.074      0.283    -198.296      57.967\n",
       "Lakewood                       -13.2208     21.682     -0.610      0.542     -55.739      29.297\n",
       "Littleton                      -36.5494     26.422     -1.383      0.167     -88.362      15.263\n",
       "Lone_Tree                       71.7791    139.692      0.514      0.607    -202.154     345.712\n",
       "Louisville                     -63.1000     72.421     -0.871      0.384    -205.117      78.917\n",
       "Morrison                       -22.9778     55.933     -0.411      0.681    -132.662      86.706\n",
       "Northglenn                     -39.5466     34.809     -1.136      0.256    -107.807      28.714\n",
       "Parker                         -24.8182     37.359     -0.664      0.507     -98.078      48.441\n",
       "Superior                       -85.7841     50.909     -1.685      0.092    -185.616      14.048\n",
       "Thornton                         5.0410     31.124      0.162      0.871     -55.992      66.074\n",
       "Westminster                    -29.7394     25.350     -1.173      0.241     -79.450      19.971\n",
       "OneHundredOne                   -2.5913     12.208     -0.212      0.832     -26.531      21.349\n",
       "OneHundredTwo                    7.9848     20.044      0.398      0.690     -31.321      47.291\n",
       "OneHundredThree                  2.9270     15.467      0.189      0.850     -27.403      33.257\n",
       "OneHundredFour                 -10.2196     13.106     -0.780      0.436     -35.919      15.480\n",
       "OneHundredFive                 -11.4904     12.038     -0.955      0.340     -35.097      12.116\n",
       "OneHundredSix                  -18.7436     12.497     -1.500      0.134     -43.251       5.763\n",
       "OneHundredSeven                -17.2443     13.061     -1.320      0.187     -42.856       8.368\n",
       "OneHundredEight                -10.1853     14.964     -0.681      0.496     -39.530      19.160\n",
       "OneHundredNine                  15.3009     17.848      0.857      0.391     -19.699      50.301\n",
       "Loyalty_Club_Only             -149.2751      9.041    -16.511      0.000    -167.005    -131.545\n",
       "Loyalty_Club_and_Credit_Card   283.4565     11.987     23.648      0.000     259.951     306.962\n",
       "Store_Mailing_List            -244.8122      9.863    -24.821      0.000    -264.154    -225.471\n",
       "==============================================================================\n",
       "Omnibus:                      354.583   Durbin-Watson:                   2.043\n",
       "Prob(Omnibus):                  0.000   Jarque-Bera (JB):             4663.569\n",
       "Skew:                           0.217   Prob(JB):                         0.00\n",
       "Kurtosis:                       9.851   Cond. No.                         318.\n",
       "==============================================================================\n",
       "\n",
       "Warnings:\n",
       "[1] Standard Errors assume that the covariance matrix of the errors is correctly specified.\n",
       "\"\"\""
      ]
     },
     "execution_count": 65,
     "metadata": {},
     "output_type": "execute_result"
    }
   ],
   "source": [
    "lin_mdl_v1.summary()"
   ]
  },
  {
   "cell_type": "markdown",
   "metadata": {},
   "source": [
    "### This initial model resulted in a pretty good fit with an R-squred of 0.839, but could possibly be improved.  Any predictor variable with a p-statistic greater than 0.05 can be removed.  Errors for each coefficient and the y-intercept can be calculated using the sum of squared errors from mean for each value, and the their sum.  The distribution of each type of error would ideally follow a normal distribution, and a hypothetical mean can be proposed which adheres to this.  A null hypothesis on the intercept error can be made that says an X variable has no influence on Y.  A t-statistic can then be calculated from the difference of actual and hypothetical means, and then used to rule out the hypothesis.  The p-value for each variable is the probability of obtaining a t-statistic that is least likely to contradict the null-hypothesis.  Hence, any variable with a p-value close to 0 indicates that a variable is more likely to contradict the hypothesis and should be kept in the model.  A reasonable cutoff of 0.05 would then indicate that such a variable likely has no influence on the target.  \n",
    "\n",
    "### Average number of products purchased and years as customer meet this criteria.  A roughly linear relationship between number of products purchased and sales was seen earlier, so it makes sense that these variables would influence a sales prediction.  Years as customer did not reveal such a linear trend, but it is being treated as an ordinal, numeric and continuous predictive variable and so it's significance on the outcome may not be that surprising.  The 3 encoded customer segments are also statistically likely to influence the sales prediction.   Location related descriptors such as city and store number had no significant impact on the prediction, with the exception onfone particular city.  "
   ]
  },
  {
   "cell_type": "markdown",
   "metadata": {},
   "source": [
    "#### Even though the encoded column for the city of Henderson is significant according to P-value, it doesn't make much sense to keep this one city in the model, given that the others did not have an impact and especially since only one customer row contains a \"1\" for this column."
   ]
  },
  {
   "cell_type": "code",
   "execution_count": 67,
   "metadata": {},
   "outputs": [
    {
     "data": {
      "text/plain": [
       "0    2374\n",
       "1       1\n",
       "Name: Henderson, dtype: int64"
      ]
     },
     "execution_count": 67,
     "metadata": {},
     "output_type": "execute_result"
    }
   ],
   "source": [
    "catmod_df_4['Henderson'].value_counts()"
   ]
  },
  {
   "cell_type": "code",
   "execution_count": 66,
   "metadata": {},
   "outputs": [],
   "source": [
    "# keeping predictor variables, for which p <= 0.05\n",
    "# refined model\n",
    "lin_mdl_v2 = ols('Avg_Sale_Amount ~ Avg_Num_Products_Purchased + Years_as_Customer + Loyalty_Club_Only + Loyalty_Club_and_Credit_Card + Store_Mailing_List' \n",
    "                ,data = catmod_df_4).fit()"
   ]
  },
  {
   "cell_type": "code",
   "execution_count": 68,
   "metadata": {},
   "outputs": [
    {
     "data": {
      "text/html": [
       "<table class=\"simpletable\">\n",
       "<caption>OLS Regression Results</caption>\n",
       "<tr>\n",
       "  <th>Dep. Variable:</th>     <td>Avg_Sale_Amount</td> <th>  R-squared:         </th> <td>   0.837</td> \n",
       "</tr>\n",
       "<tr>\n",
       "  <th>Model:</th>                   <td>OLS</td>       <th>  Adj. R-squared:    </th> <td>   0.837</td> \n",
       "</tr>\n",
       "<tr>\n",
       "  <th>Method:</th>             <td>Least Squares</td>  <th>  F-statistic:       </th> <td>   2435.</td> \n",
       "</tr>\n",
       "<tr>\n",
       "  <th>Date:</th>             <td>Wed, 28 Jun 2023</td> <th>  Prob (F-statistic):</th>  <td>  0.00</td>  \n",
       "</tr>\n",
       "<tr>\n",
       "  <th>Time:</th>                 <td>10:29:16</td>     <th>  Log-Likelihood:    </th> <td> -15059.</td> \n",
       "</tr>\n",
       "<tr>\n",
       "  <th>No. Observations:</th>      <td>  2375</td>      <th>  AIC:               </th> <td>3.013e+04</td>\n",
       "</tr>\n",
       "<tr>\n",
       "  <th>Df Residuals:</th>          <td>  2369</td>      <th>  BIC:               </th> <td>3.016e+04</td>\n",
       "</tr>\n",
       "<tr>\n",
       "  <th>Df Model:</th>              <td>     5</td>      <th>                     </th>     <td> </td>    \n",
       "</tr>\n",
       "<tr>\n",
       "  <th>Covariance Type:</th>      <td>nonrobust</td>    <th>                     </th>     <td> </td>    \n",
       "</tr>\n",
       "</table>\n",
       "<table class=\"simpletable\">\n",
       "<tr>\n",
       "                <td></td>                  <th>coef</th>     <th>std err</th>      <th>t</th>      <th>P>|t|</th>  <th>[0.025</th>    <th>0.975]</th>  \n",
       "</tr>\n",
       "<tr>\n",
       "  <th>Intercept</th>                    <td>  313.7602</td> <td>   11.861</td> <td>   26.454</td> <td> 0.000</td> <td>  290.502</td> <td>  337.019</td>\n",
       "</tr>\n",
       "<tr>\n",
       "  <th>Avg_Num_Products_Purchased</th>   <td>   67.0183</td> <td>    1.514</td> <td>   44.255</td> <td> 0.000</td> <td>   64.049</td> <td>   69.988</td>\n",
       "</tr>\n",
       "<tr>\n",
       "  <th>Years_as_Customer</th>            <td>   -2.3401</td> <td>    1.223</td> <td>   -1.914</td> <td> 0.056</td> <td>   -4.738</td> <td>    0.058</td>\n",
       "</tr>\n",
       "<tr>\n",
       "  <th>Loyalty_Club_Only</th>            <td> -149.1067</td> <td>    8.969</td> <td>  -16.625</td> <td> 0.000</td> <td> -166.694</td> <td> -131.519</td>\n",
       "</tr>\n",
       "<tr>\n",
       "  <th>Loyalty_Club_and_Credit_Card</th> <td>  282.6215</td> <td>   11.910</td> <td>   23.729</td> <td> 0.000</td> <td>  259.266</td> <td>  305.977</td>\n",
       "</tr>\n",
       "<tr>\n",
       "  <th>Store_Mailing_List</th>           <td> -245.4831</td> <td>    9.762</td> <td>  -25.146</td> <td> 0.000</td> <td> -264.627</td> <td> -226.339</td>\n",
       "</tr>\n",
       "</table>\n",
       "<table class=\"simpletable\">\n",
       "<tr>\n",
       "  <th>Omnibus:</th>       <td>360.046</td> <th>  Durbin-Watson:     </th> <td>   2.040</td>\n",
       "</tr>\n",
       "<tr>\n",
       "  <th>Prob(Omnibus):</th> <td> 0.000</td>  <th>  Jarque-Bera (JB):  </th> <td>4782.949</td>\n",
       "</tr>\n",
       "<tr>\n",
       "  <th>Skew:</th>          <td> 0.232</td>  <th>  Prob(JB):          </th> <td>    0.00</td>\n",
       "</tr>\n",
       "<tr>\n",
       "  <th>Kurtosis:</th>      <td> 9.937</td>  <th>  Cond. No.          </th> <td>    36.2</td>\n",
       "</tr>\n",
       "</table><br/><br/>Warnings:<br/>[1] Standard Errors assume that the covariance matrix of the errors is correctly specified."
      ],
      "text/plain": [
       "<class 'statsmodels.iolib.summary.Summary'>\n",
       "\"\"\"\n",
       "                            OLS Regression Results                            \n",
       "==============================================================================\n",
       "Dep. Variable:        Avg_Sale_Amount   R-squared:                       0.837\n",
       "Model:                            OLS   Adj. R-squared:                  0.837\n",
       "Method:                 Least Squares   F-statistic:                     2435.\n",
       "Date:                Wed, 28 Jun 2023   Prob (F-statistic):               0.00\n",
       "Time:                        10:29:16   Log-Likelihood:                -15059.\n",
       "No. Observations:                2375   AIC:                         3.013e+04\n",
       "Df Residuals:                    2369   BIC:                         3.016e+04\n",
       "Df Model:                           5                                         \n",
       "Covariance Type:            nonrobust                                         \n",
       "================================================================================================\n",
       "                                   coef    std err          t      P>|t|      [0.025      0.975]\n",
       "------------------------------------------------------------------------------------------------\n",
       "Intercept                      313.7602     11.861     26.454      0.000     290.502     337.019\n",
       "Avg_Num_Products_Purchased      67.0183      1.514     44.255      0.000      64.049      69.988\n",
       "Years_as_Customer               -2.3401      1.223     -1.914      0.056      -4.738       0.058\n",
       "Loyalty_Club_Only             -149.1067      8.969    -16.625      0.000    -166.694    -131.519\n",
       "Loyalty_Club_and_Credit_Card   282.6215     11.910     23.729      0.000     259.266     305.977\n",
       "Store_Mailing_List            -245.4831      9.762    -25.146      0.000    -264.627    -226.339\n",
       "==============================================================================\n",
       "Omnibus:                      360.046   Durbin-Watson:                   2.040\n",
       "Prob(Omnibus):                  0.000   Jarque-Bera (JB):             4782.949\n",
       "Skew:                           0.232   Prob(JB):                         0.00\n",
       "Kurtosis:                       9.937   Cond. No.                         36.2\n",
       "==============================================================================\n",
       "\n",
       "Warnings:\n",
       "[1] Standard Errors assume that the covariance matrix of the errors is correctly specified.\n",
       "\"\"\""
      ]
     },
     "execution_count": 68,
     "metadata": {},
     "output_type": "execute_result"
    }
   ],
   "source": [
    "lin_mdl_v2.summary()"
   ]
  },
  {
   "cell_type": "markdown",
   "metadata": {},
   "source": [
    "#### R-squared lessened by a very small amount, but now Years_as_Customer should be removed according to its P-value."
   ]
  },
  {
   "cell_type": "code",
   "execution_count": 69,
   "metadata": {},
   "outputs": [],
   "source": [
    "# refined model\n",
    "lin_mdl_v3 = ols('Avg_Sale_Amount ~ Avg_Num_Products_Purchased + Loyalty_Club_Only + Loyalty_Club_and_Credit_Card + Store_Mailing_List' \n",
    "                ,data = catmod_df_4).fit()"
   ]
  },
  {
   "cell_type": "code",
   "execution_count": 45,
   "metadata": {},
   "outputs": [
    {
     "data": {
      "text/html": [
       "<table class=\"simpletable\">\n",
       "<caption>OLS Regression Results</caption>\n",
       "<tr>\n",
       "  <th>Dep. Variable:</th>     <td>Avg_Sale_Amount</td> <th>  R-squared:         </th> <td>   0.837</td> \n",
       "</tr>\n",
       "<tr>\n",
       "  <th>Model:</th>                   <td>OLS</td>       <th>  Adj. R-squared:    </th> <td>   0.837</td> \n",
       "</tr>\n",
       "<tr>\n",
       "  <th>Method:</th>             <td>Least Squares</td>  <th>  F-statistic:       </th> <td>   3040.</td> \n",
       "</tr>\n",
       "<tr>\n",
       "  <th>Date:</th>             <td>Wed, 28 Jun 2023</td> <th>  Prob (F-statistic):</th>  <td>  0.00</td>  \n",
       "</tr>\n",
       "<tr>\n",
       "  <th>Time:</th>                 <td>10:22:17</td>     <th>  Log-Likelihood:    </th> <td> -15061.</td> \n",
       "</tr>\n",
       "<tr>\n",
       "  <th>No. Observations:</th>      <td>  2375</td>      <th>  AIC:               </th> <td>3.013e+04</td>\n",
       "</tr>\n",
       "<tr>\n",
       "  <th>Df Residuals:</th>          <td>  2370</td>      <th>  BIC:               </th> <td>3.016e+04</td>\n",
       "</tr>\n",
       "<tr>\n",
       "  <th>Df Model:</th>              <td>     4</td>      <th>                     </th>     <td> </td>    \n",
       "</tr>\n",
       "<tr>\n",
       "  <th>Covariance Type:</th>      <td>nonrobust</td>    <th>                     </th>     <td> </td>    \n",
       "</tr>\n",
       "</table>\n",
       "<table class=\"simpletable\">\n",
       "<tr>\n",
       "                <td></td>                  <th>coef</th>     <th>std err</th>      <th>t</th>      <th>P>|t|</th>  <th>[0.025</th>    <th>0.975]</th>  \n",
       "</tr>\n",
       "<tr>\n",
       "  <th>Intercept</th>                    <td>  303.4635</td> <td>   10.576</td> <td>   28.694</td> <td> 0.000</td> <td>  282.725</td> <td>  324.202</td>\n",
       "</tr>\n",
       "<tr>\n",
       "  <th>Avg_Num_Products_Purchased</th>   <td>   66.9762</td> <td>    1.515</td> <td>   44.208</td> <td> 0.000</td> <td>   64.005</td> <td>   69.947</td>\n",
       "</tr>\n",
       "<tr>\n",
       "  <th>Loyalty_Club_Only</th>            <td> -149.3557</td> <td>    8.973</td> <td>  -16.645</td> <td> 0.000</td> <td> -166.951</td> <td> -131.760</td>\n",
       "</tr>\n",
       "<tr>\n",
       "  <th>Loyalty_Club_and_Credit_Card</th> <td>  281.8388</td> <td>   11.910</td> <td>   23.664</td> <td> 0.000</td> <td>  258.484</td> <td>  305.194</td>\n",
       "</tr>\n",
       "<tr>\n",
       "  <th>Store_Mailing_List</th>           <td> -245.4177</td> <td>    9.768</td> <td>  -25.125</td> <td> 0.000</td> <td> -264.572</td> <td> -226.263</td>\n",
       "</tr>\n",
       "</table>\n",
       "<table class=\"simpletable\">\n",
       "<tr>\n",
       "  <th>Omnibus:</th>       <td>359.638</td> <th>  Durbin-Watson:     </th> <td>   2.045</td>\n",
       "</tr>\n",
       "<tr>\n",
       "  <th>Prob(Omnibus):</th> <td> 0.000</td>  <th>  Jarque-Bera (JB):  </th> <td>4770.580</td>\n",
       "</tr>\n",
       "<tr>\n",
       "  <th>Skew:</th>          <td> 0.232</td>  <th>  Prob(JB):          </th> <td>    0.00</td>\n",
       "</tr>\n",
       "<tr>\n",
       "  <th>Kurtosis:</th>      <td> 9.928</td>  <th>  Cond. No.          </th> <td>    25.0</td>\n",
       "</tr>\n",
       "</table><br/><br/>Warnings:<br/>[1] Standard Errors assume that the covariance matrix of the errors is correctly specified."
      ],
      "text/plain": [
       "<class 'statsmodels.iolib.summary.Summary'>\n",
       "\"\"\"\n",
       "                            OLS Regression Results                            \n",
       "==============================================================================\n",
       "Dep. Variable:        Avg_Sale_Amount   R-squared:                       0.837\n",
       "Model:                            OLS   Adj. R-squared:                  0.837\n",
       "Method:                 Least Squares   F-statistic:                     3040.\n",
       "Date:                Wed, 28 Jun 2023   Prob (F-statistic):               0.00\n",
       "Time:                        10:22:17   Log-Likelihood:                -15061.\n",
       "No. Observations:                2375   AIC:                         3.013e+04\n",
       "Df Residuals:                    2370   BIC:                         3.016e+04\n",
       "Df Model:                           4                                         \n",
       "Covariance Type:            nonrobust                                         \n",
       "================================================================================================\n",
       "                                   coef    std err          t      P>|t|      [0.025      0.975]\n",
       "------------------------------------------------------------------------------------------------\n",
       "Intercept                      303.4635     10.576     28.694      0.000     282.725     324.202\n",
       "Avg_Num_Products_Purchased      66.9762      1.515     44.208      0.000      64.005      69.947\n",
       "Loyalty_Club_Only             -149.3557      8.973    -16.645      0.000    -166.951    -131.760\n",
       "Loyalty_Club_and_Credit_Card   281.8388     11.910     23.664      0.000     258.484     305.194\n",
       "Store_Mailing_List            -245.4177      9.768    -25.125      0.000    -264.572    -226.263\n",
       "==============================================================================\n",
       "Omnibus:                      359.638   Durbin-Watson:                   2.045\n",
       "Prob(Omnibus):                  0.000   Jarque-Bera (JB):             4770.580\n",
       "Skew:                           0.232   Prob(JB):                         0.00\n",
       "Kurtosis:                       9.928   Cond. No.                         25.0\n",
       "==============================================================================\n",
       "\n",
       "Warnings:\n",
       "[1] Standard Errors assume that the covariance matrix of the errors is correctly specified.\n",
       "\"\"\""
      ]
     },
     "execution_count": 45,
     "metadata": {},
     "output_type": "execute_result"
    }
   ],
   "source": [
    "lin_mdl_v3.summary()"
   ]
  },
  {
   "cell_type": "markdown",
   "metadata": {},
   "source": [
    "### This final model has only significantly contributing predictor variables and a fairly strong fit with an R-squared of 0.837.  \n",
    "\n",
    "### The equation of fit for the final model is:\n",
    "\n",
    "### Y = 66.98X1 - 149.36X2 + 281.84X3 - 245.42X4 + 303.46, where\n",
    "####   Y: average sale amount for a customer\n",
    "####  X1:  average number of products purchased\n",
    "#### X2: loyalty club only\n",
    "#### X3: loyalty club and credit card\n",
    "#### X4: store mailing list\n",
    "\n",
    "### In other words, average sales and customer segment are the only influential colums to predict new sales according to this model."
   ]
  },
  {
   "cell_type": "markdown",
   "metadata": {},
   "source": [
    "# Applying the model to make predictions for new customers."
   ]
  },
  {
   "cell_type": "markdown",
   "metadata": {},
   "source": [
    "### This final model has only significantly contributing predictor variables and a fairly strong fit with an R-squared of 0.837.  \n",
    "\n",
    "### The equation of fit for the final model is:\n",
    "\n",
    "### Y = 66.98X1 - 149.36X2 + 281.84X3 - 245.42X4 + 303.46\n",
    "###  , where\n",
    "####   Y: average sale amount for a customer\n",
    "####  X1:  average number of products purchased\n",
    "#### X2: loyalty club only\n",
    "#### X3: loyalty club and credit card\n",
    "#### X4: store mailing list\n",
    "\n",
    "### In other words, average sales and customer segment are the only influential colums to predict new sales according to this model."
   ]
  },
  {
   "cell_type": "markdown",
   "metadata": {},
   "source": [
    "#### The second data set containing catalog response probability needs to be loaded."
   ]
  },
  {
   "cell_type": "code",
   "execution_count": 70,
   "metadata": {},
   "outputs": [],
   "source": [
    "revpred_df = pd.read_csv('p1-mailinglist.csv')"
   ]
  },
  {
   "cell_type": "markdown",
   "metadata": {},
   "source": [
    "#### Since Customer_Segment appears in a one-hot-encoded format in the model, we need to make the same transformation in the new dataset in order to use the equation of fit to calculate predicted sales."
   ]
  },
  {
   "cell_type": "code",
   "execution_count": 71,
   "metadata": {},
   "outputs": [],
   "source": [
    "custseg_ohe2 = pd.get_dummies(revpred_df['Customer_Segment'])\n",
    "revpred_df_2 = revpred_df.join(custseg_ohe)"
   ]
  },
  {
   "cell_type": "code",
   "execution_count": 72,
   "metadata": {},
   "outputs": [],
   "source": [
    "revpred_df_2.rename(columns={'Loyalty Club Only' : 'Loyalty_Club_Only',\n",
    "                          'Loyalty Club and Credit Card' : 'Loyalty_Club_and_Credit_Card',\n",
    "                          'Store Mailing List' : 'Store_Mailing_List' }, inplace=True)"
   ]
  },
  {
   "cell_type": "code",
   "execution_count": 73,
   "metadata": {},
   "outputs": [
    {
     "data": {
      "text/plain": [
       "Index(['Name', 'Customer_Segment', 'Customer_ID', 'Address', 'City', 'State',\n",
       "       'ZIP', 'Store_Number', 'Avg_Num_Products_Purchased',\n",
       "       '#_Years_as_Customer', 'Score_No', 'Score_Yes', 'Credit Card Only',\n",
       "       'Loyalty_Club_Only', 'Loyalty_Club_and_Credit_Card',\n",
       "       'Store_Mailing_List'],\n",
       "      dtype='object')"
      ]
     },
     "execution_count": 73,
     "metadata": {},
     "output_type": "execute_result"
    }
   ],
   "source": [
    "revpred_df_2.columns"
   ]
  },
  {
   "cell_type": "markdown",
   "metadata": {},
   "source": [
    "#### Using the ols equation we can add a new column containing predicted sales for each potential customer. "
   ]
  },
  {
   "cell_type": "code",
   "execution_count": 74,
   "metadata": {},
   "outputs": [],
   "source": [
    "# new column for predicted revenue\n",
    "revpred_df_2['PredSales'] = 66.98*revpred_df_2.Avg_Num_Products_Purchased - 149.36*revpred_df_2.Loyalty_Club_Only + 281.84*revpred_df_2.Loyalty_Club_and_Credit_Card - 245.42*revpred_df_2.Store_Mailing_List + 303.46"
   ]
  },
  {
   "cell_type": "markdown",
   "metadata": {},
   "source": [
    "#### Expected revenue from predicted sales depends on the probability of each new customer purchasing a catalog."
   ]
  },
  {
   "cell_type": "code",
   "execution_count": 75,
   "metadata": {},
   "outputs": [],
   "source": [
    "revpred_df_2['ExpRev'] = revpred_df_2.PredSales*revpred_df_2.Score_Yes"
   ]
  },
  {
   "cell_type": "markdown",
   "metadata": {},
   "source": [
    "#### Now we need to take into account the gross margin (price - cost) on catalog sales, which is 50% per customer, then subtract catalog costs."
   ]
  },
  {
   "cell_type": "code",
   "execution_count": 76,
   "metadata": {},
   "outputs": [],
   "source": [
    "# computing new column for predicted profit margin per customer\n",
    "revpred_df_2['PredProfit'] = 0.5*revpred_df_2.ExpRev - 6.5"
   ]
  },
  {
   "cell_type": "code",
   "execution_count": 78,
   "metadata": {},
   "outputs": [
    {
     "data": {
      "text/html": [
       "<div>\n",
       "<style scoped>\n",
       "    .dataframe tbody tr th:only-of-type {\n",
       "        vertical-align: middle;\n",
       "    }\n",
       "\n",
       "    .dataframe tbody tr th {\n",
       "        vertical-align: top;\n",
       "    }\n",
       "\n",
       "    .dataframe thead th {\n",
       "        text-align: right;\n",
       "    }\n",
       "</style>\n",
       "<table border=\"1\" class=\"dataframe\">\n",
       "  <thead>\n",
       "    <tr style=\"text-align: right;\">\n",
       "      <th></th>\n",
       "      <th>Name</th>\n",
       "      <th>Customer_Segment</th>\n",
       "      <th>Customer_ID</th>\n",
       "      <th>Address</th>\n",
       "      <th>City</th>\n",
       "      <th>State</th>\n",
       "      <th>ZIP</th>\n",
       "      <th>Store_Number</th>\n",
       "      <th>Avg_Num_Products_Purchased</th>\n",
       "      <th>#_Years_as_Customer</th>\n",
       "      <th>Score_No</th>\n",
       "      <th>Score_Yes</th>\n",
       "      <th>Credit Card Only</th>\n",
       "      <th>Loyalty_Club_Only</th>\n",
       "      <th>Loyalty_Club_and_Credit_Card</th>\n",
       "      <th>Store_Mailing_List</th>\n",
       "      <th>PredSales</th>\n",
       "      <th>ExpRev</th>\n",
       "      <th>PredProfit</th>\n",
       "    </tr>\n",
       "  </thead>\n",
       "  <tbody>\n",
       "    <tr>\n",
       "      <th>0</th>\n",
       "      <td>A Giametti</td>\n",
       "      <td>Loyalty Club Only</td>\n",
       "      <td>2213</td>\n",
       "      <td>5326 S Lisbon Way</td>\n",
       "      <td>Centennial</td>\n",
       "      <td>CO</td>\n",
       "      <td>80015</td>\n",
       "      <td>105</td>\n",
       "      <td>3</td>\n",
       "      <td>0.2</td>\n",
       "      <td>0.694964</td>\n",
       "      <td>0.305036</td>\n",
       "      <td>0</td>\n",
       "      <td>0</td>\n",
       "      <td>0</td>\n",
       "      <td>1</td>\n",
       "      <td>258.98</td>\n",
       "      <td>78.998173</td>\n",
       "      <td>32.999087</td>\n",
       "    </tr>\n",
       "    <tr>\n",
       "      <th>1</th>\n",
       "      <td>Abby Pierson</td>\n",
       "      <td>Loyalty Club and Credit Card</td>\n",
       "      <td>2785</td>\n",
       "      <td>4344 W Roanoke Pl</td>\n",
       "      <td>Denver</td>\n",
       "      <td>CO</td>\n",
       "      <td>80236</td>\n",
       "      <td>101</td>\n",
       "      <td>6</td>\n",
       "      <td>0.6</td>\n",
       "      <td>0.527275</td>\n",
       "      <td>0.472725</td>\n",
       "      <td>0</td>\n",
       "      <td>0</td>\n",
       "      <td>0</td>\n",
       "      <td>1</td>\n",
       "      <td>459.92</td>\n",
       "      <td>217.415469</td>\n",
       "      <td>102.207735</td>\n",
       "    </tr>\n",
       "    <tr>\n",
       "      <th>2</th>\n",
       "      <td>Adele Hallman</td>\n",
       "      <td>Loyalty Club Only</td>\n",
       "      <td>2931</td>\n",
       "      <td>5219 S Delaware St</td>\n",
       "      <td>Englewood</td>\n",
       "      <td>CO</td>\n",
       "      <td>80110</td>\n",
       "      <td>101</td>\n",
       "      <td>7</td>\n",
       "      <td>0.9</td>\n",
       "      <td>0.421118</td>\n",
       "      <td>0.578882</td>\n",
       "      <td>0</td>\n",
       "      <td>0</td>\n",
       "      <td>0</td>\n",
       "      <td>1</td>\n",
       "      <td>526.90</td>\n",
       "      <td>305.012847</td>\n",
       "      <td>146.006423</td>\n",
       "    </tr>\n",
       "    <tr>\n",
       "      <th>3</th>\n",
       "      <td>Alejandra Baird</td>\n",
       "      <td>Loyalty Club Only</td>\n",
       "      <td>2231</td>\n",
       "      <td>2301 Lawrence St</td>\n",
       "      <td>Denver</td>\n",
       "      <td>CO</td>\n",
       "      <td>80205</td>\n",
       "      <td>103</td>\n",
       "      <td>2</td>\n",
       "      <td>0.6</td>\n",
       "      <td>0.694862</td>\n",
       "      <td>0.305138</td>\n",
       "      <td>0</td>\n",
       "      <td>0</td>\n",
       "      <td>0</td>\n",
       "      <td>1</td>\n",
       "      <td>192.00</td>\n",
       "      <td>58.586460</td>\n",
       "      <td>22.793230</td>\n",
       "    </tr>\n",
       "    <tr>\n",
       "      <th>4</th>\n",
       "      <td>Alice Dewitt</td>\n",
       "      <td>Loyalty Club Only</td>\n",
       "      <td>2530</td>\n",
       "      <td>5549 S Hannibal Way</td>\n",
       "      <td>Centennial</td>\n",
       "      <td>CO</td>\n",
       "      <td>80015</td>\n",
       "      <td>104</td>\n",
       "      <td>4</td>\n",
       "      <td>0.5</td>\n",
       "      <td>0.612294</td>\n",
       "      <td>0.387706</td>\n",
       "      <td>0</td>\n",
       "      <td>0</td>\n",
       "      <td>0</td>\n",
       "      <td>1</td>\n",
       "      <td>325.96</td>\n",
       "      <td>126.376600</td>\n",
       "      <td>56.688300</td>\n",
       "    </tr>\n",
       "  </tbody>\n",
       "</table>\n",
       "</div>"
      ],
      "text/plain": [
       "              Name              Customer_Segment  Customer_ID  \\\n",
       "0       A Giametti             Loyalty Club Only         2213   \n",
       "1     Abby Pierson  Loyalty Club and Credit Card         2785   \n",
       "2    Adele Hallman             Loyalty Club Only         2931   \n",
       "3  Alejandra Baird             Loyalty Club Only         2231   \n",
       "4     Alice Dewitt             Loyalty Club Only         2530   \n",
       "\n",
       "               Address        City State    ZIP  Store_Number  \\\n",
       "0    5326 S Lisbon Way  Centennial    CO  80015           105   \n",
       "1    4344 W Roanoke Pl      Denver    CO  80236           101   \n",
       "2   5219 S Delaware St   Englewood    CO  80110           101   \n",
       "3     2301 Lawrence St      Denver    CO  80205           103   \n",
       "4  5549 S Hannibal Way  Centennial    CO  80015           104   \n",
       "\n",
       "   Avg_Num_Products_Purchased  #_Years_as_Customer  Score_No  Score_Yes  \\\n",
       "0                           3                  0.2  0.694964   0.305036   \n",
       "1                           6                  0.6  0.527275   0.472725   \n",
       "2                           7                  0.9  0.421118   0.578882   \n",
       "3                           2                  0.6  0.694862   0.305138   \n",
       "4                           4                  0.5  0.612294   0.387706   \n",
       "\n",
       "   Credit Card Only  Loyalty_Club_Only  Loyalty_Club_and_Credit_Card  \\\n",
       "0                 0                  0                             0   \n",
       "1                 0                  0                             0   \n",
       "2                 0                  0                             0   \n",
       "3                 0                  0                             0   \n",
       "4                 0                  0                             0   \n",
       "\n",
       "   Store_Mailing_List  PredSales      ExpRev  PredProfit  \n",
       "0                   1     258.98   78.998173   32.999087  \n",
       "1                   1     459.92  217.415469  102.207735  \n",
       "2                   1     526.90  305.012847  146.006423  \n",
       "3                   1     192.00   58.586460   22.793230  \n",
       "4                   1     325.96  126.376600   56.688300  "
      ]
     },
     "execution_count": 78,
     "metadata": {},
     "output_type": "execute_result"
    }
   ],
   "source": [
    "revpred_df_2.head()"
   ]
  },
  {
   "cell_type": "markdown",
   "metadata": {},
   "source": [
    "### Finally, we can sum the predicted profit for each customer to see if issuing catalogs could be deemed worthwhile."
   ]
  },
  {
   "cell_type": "code",
   "execution_count": 77,
   "metadata": {},
   "outputs": [
    {
     "name": "stdout",
     "output_type": "stream",
     "text": [
      "The predicted net return from new catalog issues is: $ 14258.73\n"
     ]
    }
   ],
   "source": [
    "Total = revpred_df_2['PredProfit'].sum()\n",
    "print(\"The predicted net return from new catalog issues is: $\", round(Total,2))"
   ]
  },
  {
   "cell_type": "markdown",
   "metadata": {},
   "source": [
    "## The net expected profit from sending a catalog to these new customers exceeds the established threshold! The linear model obtained from analysis on variation within existing customer data resulted in new sales predictions with a strong level of accuracy.   Even when factoring in the liklihood of making a purchase from a catalog, the gross margin of price vs cost differential on products produced, and catolog printing and distribution costs the effort of issuing catalogs to these 250 new customers exceeds expectations by at least $4K.  The analyst who performed this work would recommend sending out catalogs to the new sample of welcomed and appreciated customers."
   ]
  }
 ],
 "metadata": {
  "kernelspec": {
   "display_name": "Python 3",
   "language": "python",
   "name": "python3"
  },
  "language_info": {
   "codemirror_mode": {
    "name": "ipython",
    "version": 3
   },
   "file_extension": ".py",
   "mimetype": "text/x-python",
   "name": "python",
   "nbconvert_exporter": "python",
   "pygments_lexer": "ipython3",
   "version": "3.6.8"
  }
 },
 "nbformat": 4,
 "nbformat_minor": 2
}
